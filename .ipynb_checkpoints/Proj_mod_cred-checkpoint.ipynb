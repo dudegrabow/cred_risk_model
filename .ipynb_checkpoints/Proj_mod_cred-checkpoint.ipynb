{
 "cells": [
  {
   "cell_type": "code",
   "execution_count": 1,
   "id": "b34a1ce0",
   "metadata": {},
   "outputs": [],
   "source": [
    "import matplotlib.pyplot as plt\n",
    "import pandas as pd\n",
    "import seaborn as sns\n",
    "import numpy as np"
   ]
  },
  {
   "cell_type": "code",
   "execution_count": 2,
   "id": "f5afd3ef",
   "metadata": {},
   "outputs": [],
   "source": [
    "df = pd.read_csv(r'C:\\Users\\erick\\Python\\cr_loan2.csv', sep=',')"
   ]
  },
  {
   "cell_type": "code",
   "execution_count": 3,
   "id": "7a09d8cc",
   "metadata": {},
   "outputs": [
    {
     "data": {
      "text/html": [
       "<div>\n",
       "<style scoped>\n",
       "    .dataframe tbody tr th:only-of-type {\n",
       "        vertical-align: middle;\n",
       "    }\n",
       "\n",
       "    .dataframe tbody tr th {\n",
       "        vertical-align: top;\n",
       "    }\n",
       "\n",
       "    .dataframe thead th {\n",
       "        text-align: right;\n",
       "    }\n",
       "</style>\n",
       "<table border=\"1\" class=\"dataframe\">\n",
       "  <thead>\n",
       "    <tr style=\"text-align: right;\">\n",
       "      <th></th>\n",
       "      <th>person_age</th>\n",
       "      <th>person_income</th>\n",
       "      <th>person_home_ownership</th>\n",
       "      <th>person_emp_length</th>\n",
       "      <th>loan_intent</th>\n",
       "      <th>loan_grade</th>\n",
       "      <th>loan_amnt</th>\n",
       "      <th>loan_int_rate</th>\n",
       "      <th>loan_status</th>\n",
       "      <th>loan_percent_income</th>\n",
       "      <th>cb_person_default_on_file</th>\n",
       "      <th>cb_person_cred_hist_length</th>\n",
       "    </tr>\n",
       "  </thead>\n",
       "  <tbody>\n",
       "    <tr>\n",
       "      <th>0</th>\n",
       "      <td>22</td>\n",
       "      <td>59000</td>\n",
       "      <td>RENT</td>\n",
       "      <td>123.0</td>\n",
       "      <td>PERSONAL</td>\n",
       "      <td>D</td>\n",
       "      <td>35000</td>\n",
       "      <td>16.02</td>\n",
       "      <td>1</td>\n",
       "      <td>0.59</td>\n",
       "      <td>Y</td>\n",
       "      <td>3</td>\n",
       "    </tr>\n",
       "    <tr>\n",
       "      <th>1</th>\n",
       "      <td>21</td>\n",
       "      <td>9600</td>\n",
       "      <td>OWN</td>\n",
       "      <td>5.0</td>\n",
       "      <td>EDUCATION</td>\n",
       "      <td>B</td>\n",
       "      <td>1000</td>\n",
       "      <td>11.14</td>\n",
       "      <td>0</td>\n",
       "      <td>0.10</td>\n",
       "      <td>N</td>\n",
       "      <td>2</td>\n",
       "    </tr>\n",
       "    <tr>\n",
       "      <th>2</th>\n",
       "      <td>25</td>\n",
       "      <td>9600</td>\n",
       "      <td>MORTGAGE</td>\n",
       "      <td>1.0</td>\n",
       "      <td>MEDICAL</td>\n",
       "      <td>C</td>\n",
       "      <td>5500</td>\n",
       "      <td>12.87</td>\n",
       "      <td>1</td>\n",
       "      <td>0.57</td>\n",
       "      <td>N</td>\n",
       "      <td>3</td>\n",
       "    </tr>\n",
       "    <tr>\n",
       "      <th>3</th>\n",
       "      <td>23</td>\n",
       "      <td>65500</td>\n",
       "      <td>RENT</td>\n",
       "      <td>4.0</td>\n",
       "      <td>MEDICAL</td>\n",
       "      <td>C</td>\n",
       "      <td>35000</td>\n",
       "      <td>15.23</td>\n",
       "      <td>1</td>\n",
       "      <td>0.53</td>\n",
       "      <td>N</td>\n",
       "      <td>2</td>\n",
       "    </tr>\n",
       "    <tr>\n",
       "      <th>4</th>\n",
       "      <td>24</td>\n",
       "      <td>54400</td>\n",
       "      <td>RENT</td>\n",
       "      <td>8.0</td>\n",
       "      <td>MEDICAL</td>\n",
       "      <td>C</td>\n",
       "      <td>35000</td>\n",
       "      <td>14.27</td>\n",
       "      <td>1</td>\n",
       "      <td>0.55</td>\n",
       "      <td>Y</td>\n",
       "      <td>4</td>\n",
       "    </tr>\n",
       "  </tbody>\n",
       "</table>\n",
       "</div>"
      ],
      "text/plain": [
       "   person_age  person_income person_home_ownership  person_emp_length  \\\n",
       "0          22          59000                  RENT              123.0   \n",
       "1          21           9600                   OWN                5.0   \n",
       "2          25           9600              MORTGAGE                1.0   \n",
       "3          23          65500                  RENT                4.0   \n",
       "4          24          54400                  RENT                8.0   \n",
       "\n",
       "  loan_intent loan_grade  loan_amnt  loan_int_rate  loan_status  \\\n",
       "0    PERSONAL          D      35000          16.02            1   \n",
       "1   EDUCATION          B       1000          11.14            0   \n",
       "2     MEDICAL          C       5500          12.87            1   \n",
       "3     MEDICAL          C      35000          15.23            1   \n",
       "4     MEDICAL          C      35000          14.27            1   \n",
       "\n",
       "   loan_percent_income cb_person_default_on_file  cb_person_cred_hist_length  \n",
       "0                 0.59                         Y                           3  \n",
       "1                 0.10                         N                           2  \n",
       "2                 0.57                         N                           3  \n",
       "3                 0.53                         N                           2  \n",
       "4                 0.55                         Y                           4  "
      ]
     },
     "execution_count": 3,
     "metadata": {},
     "output_type": "execute_result"
    }
   ],
   "source": [
    "df.head()"
   ]
  },
  {
   "cell_type": "code",
   "execution_count": 4,
   "id": "56b15683",
   "metadata": {},
   "outputs": [],
   "source": [
    "#Entendendo as variáveis deste dataset\n",
    "\n",
    "#person_age - É a idade do tomador de crédito\n",
    "#person_income - É a renda do tomador de crédito\n",
    "#person_home_ownership - Se o tomador de crédito é dono da sua residência, paga aluguel, esta hipotecada ou outra coisa\n",
    "#person_emp_length - Representa o tempo de emprego do tomador de crédito\n",
    "#loan_intent - Descreve a finalidade/objetivo do tomador de crédito\n",
    "#loan_grade - Descreve o rating do tomador de crédito\n",
    "#loan_amnt - Descreve o valor do empréstimo\n",
    "#loan_int_rate - Descreve a taxa de juros do contrato de crédito\n",
    "#loan_status - Descreve o status do empréstimo, representado em um binário (0 está em dia, 1 está inadimplente)\n",
    "#loan_percent_income - Descreve a proporção entre o valor tomado e a renda do tomador de crédito\n",
    "#cb_person_default_on_file - Indica se o tomador de crédito tem histórico de inadimplência\n",
    "#cb_person_cred_hist_length - Representa o cumprimento do histórico de crédito"
   ]
  },
  {
   "cell_type": "code",
   "execution_count": 5,
   "id": "77699264",
   "metadata": {},
   "outputs": [],
   "source": [
    "#Como boas praticas, vamos rodar as estatisticas basicas"
   ]
  },
  {
   "cell_type": "code",
   "execution_count": 6,
   "id": "037c9b51",
   "metadata": {},
   "outputs": [
    {
     "name": "stdout",
     "output_type": "stream",
     "text": [
      "<class 'pandas.core.frame.DataFrame'>\n",
      "RangeIndex: 32581 entries, 0 to 32580\n",
      "Data columns (total 12 columns):\n",
      " #   Column                      Non-Null Count  Dtype  \n",
      "---  ------                      --------------  -----  \n",
      " 0   person_age                  32581 non-null  int64  \n",
      " 1   person_income               32581 non-null  int64  \n",
      " 2   person_home_ownership       32581 non-null  object \n",
      " 3   person_emp_length           31686 non-null  float64\n",
      " 4   loan_intent                 32581 non-null  object \n",
      " 5   loan_grade                  32581 non-null  object \n",
      " 6   loan_amnt                   32581 non-null  int64  \n",
      " 7   loan_int_rate               29465 non-null  float64\n",
      " 8   loan_status                 32581 non-null  int64  \n",
      " 9   loan_percent_income         32581 non-null  float64\n",
      " 10  cb_person_default_on_file   32581 non-null  object \n",
      " 11  cb_person_cred_hist_length  32581 non-null  int64  \n",
      "dtypes: float64(3), int64(5), object(4)\n",
      "memory usage: 3.0+ MB\n"
     ]
    }
   ],
   "source": [
    "df.info()"
   ]
  },
  {
   "cell_type": "code",
   "execution_count": 7,
   "id": "ac21f962",
   "metadata": {},
   "outputs": [],
   "source": [
    "#Vamos guardar o dataset cru\n",
    "df_new = df.copy()"
   ]
  },
  {
   "cell_type": "code",
   "execution_count": 8,
   "id": "0bd50578",
   "metadata": {},
   "outputs": [
    {
     "name": "stdout",
     "output_type": "stream",
     "text": [
      "       person_age  person_income person_home_ownership  person_emp_length  \\\n",
      "39             23          71500                  RENT                3.0   \n",
      "50             24          78000                  RENT                4.0   \n",
      "57             23         277000                   OWN                3.0   \n",
      "59             24          12000                   OWN                2.0   \n",
      "62             26         263000              MORTGAGE                0.0   \n",
      "...           ...            ...                   ...                ...   \n",
      "32547          53           4888                   OWN                0.0   \n",
      "32552          65          45900                  RENT                2.0   \n",
      "32553          54          20000                  RENT                2.0   \n",
      "32569          51          60000              MORTGAGE                1.0   \n",
      "32570          58          72000                  RENT                5.0   \n",
      "\n",
      "             loan_intent loan_grade  loan_amnt  loan_int_rate  loan_status  \\\n",
      "39     DEBTCONSOLIDATION          D      30000            NaN            1   \n",
      "50     DEBTCONSOLIDATION          D      30000            NaN            1   \n",
      "57              PERSONAL          A      35000            NaN            0   \n",
      "59               VENTURE          E       1750            NaN            0   \n",
      "62             EDUCATION          B      10000            NaN            1   \n",
      "...                  ...        ...        ...            ...          ...   \n",
      "32547            VENTURE          C       1400            NaN            1   \n",
      "32552          EDUCATION          C      10000            NaN            0   \n",
      "32553            MEDICAL          C       5000            NaN            0   \n",
      "32569           PERSONAL          A       7500            NaN            0   \n",
      "32570    HOMEIMPROVEMENT          B       4500            NaN            0   \n",
      "\n",
      "       loan_percent_income cb_person_default_on_file  \\\n",
      "39                    0.42                         N   \n",
      "50                    0.38                         Y   \n",
      "57                    0.13                         N   \n",
      "59                    0.15                         Y   \n",
      "62                    0.04                         N   \n",
      "...                    ...                       ...   \n",
      "32547                 0.29                         Y   \n",
      "32552                 0.22                         Y   \n",
      "32553                 0.25                         N   \n",
      "32569                 0.13                         N   \n",
      "32570                 0.06                         N   \n",
      "\n",
      "       cb_person_cred_hist_length  \n",
      "39                              4  \n",
      "50                              4  \n",
      "57                              4  \n",
      "59                              3  \n",
      "62                              4  \n",
      "...                           ...  \n",
      "32547                          28  \n",
      "32552                          19  \n",
      "32553                          28  \n",
      "32569                          23  \n",
      "32570                          23  \n",
      "\n",
      "[3116 rows x 12 columns]\n"
     ]
    }
   ],
   "source": [
    "#Algumas variaveis que nao deveriam ter valores nulos, possuem, vamos dar uma olhada nelas\n",
    "df_filtrado = df[df['loan_int_rate'].isnull()]\n",
    "print(df_filtrado)"
   ]
  },
  {
   "cell_type": "code",
   "execution_count": 9,
   "id": "88029946",
   "metadata": {},
   "outputs": [
    {
     "name": "stdout",
     "output_type": "stream",
     "text": [
      "  loan_grade  loan_int_rate\n",
      "0          A       7.327651\n",
      "1          B      10.995555\n",
      "2          C      13.463542\n",
      "3          D      15.361448\n",
      "4          E      17.009455\n",
      "5          F      18.609159\n",
      "6          G      20.251525\n"
     ]
    }
   ],
   "source": [
    "#Vamos fazer um tratamento para esses valores e melhorar os nossos dados\n",
    "#Puxando as medias\n",
    "df_sumarizado = df.groupby('loan_grade')['loan_int_rate'].mean().reset_index()\n",
    "print(df_sumarizado)"
   ]
  },
  {
   "cell_type": "code",
   "execution_count": 10,
   "id": "35f790af",
   "metadata": {},
   "outputs": [
    {
     "name": "stdout",
     "output_type": "stream",
     "text": [
      "       person_age  person_income person_home_ownership  person_emp_length  \\\n",
      "0              22          59000                  RENT              123.0   \n",
      "1              21           9600                   OWN                5.0   \n",
      "2              25           9600              MORTGAGE                1.0   \n",
      "3              23          65500                  RENT                4.0   \n",
      "4              24          54400                  RENT                8.0   \n",
      "...           ...            ...                   ...                ...   \n",
      "32576          57          53000              MORTGAGE                1.0   \n",
      "32577          54         120000              MORTGAGE                4.0   \n",
      "32578          65          76000                  RENT                3.0   \n",
      "32579          56         150000              MORTGAGE                5.0   \n",
      "32580          66          42000                  RENT                2.0   \n",
      "\n",
      "           loan_intent loan_grade  loan_amnt  loan_int_rate  loan_status  \\\n",
      "0             PERSONAL          D      35000          16.02            1   \n",
      "1            EDUCATION          B       1000          11.14            0   \n",
      "2              MEDICAL          C       5500          12.87            1   \n",
      "3              MEDICAL          C      35000          15.23            1   \n",
      "4              MEDICAL          C      35000          14.27            1   \n",
      "...                ...        ...        ...            ...          ...   \n",
      "32576         PERSONAL          C       5800          13.16            0   \n",
      "32577         PERSONAL          A      17625           7.49            0   \n",
      "32578  HOMEIMPROVEMENT          B      35000          10.99            1   \n",
      "32579         PERSONAL          B      15000          11.48            0   \n",
      "32580          MEDICAL          B       6475           9.99            0   \n",
      "\n",
      "       loan_percent_income cb_person_default_on_file  \\\n",
      "0                     0.59                         Y   \n",
      "1                     0.10                         N   \n",
      "2                     0.57                         N   \n",
      "3                     0.53                         N   \n",
      "4                     0.55                         Y   \n",
      "...                    ...                       ...   \n",
      "32576                 0.11                         N   \n",
      "32577                 0.15                         N   \n",
      "32578                 0.46                         N   \n",
      "32579                 0.10                         N   \n",
      "32580                 0.15                         N   \n",
      "\n",
      "       cb_person_cred_hist_length  \n",
      "0                               3  \n",
      "1                               2  \n",
      "2                               3  \n",
      "3                               2  \n",
      "4                               4  \n",
      "...                           ...  \n",
      "32576                          30  \n",
      "32577                          19  \n",
      "32578                          28  \n",
      "32579                          26  \n",
      "32580                          30  \n",
      "\n",
      "[32581 rows x 12 columns]\n"
     ]
    }
   ],
   "source": [
    "media_por_rating = df.groupby('loan_grade')['loan_int_rate'].mean()\n",
    "\n",
    "# Preenche os valores nulos em loan_int_rate com a media correspondente\n",
    "df['loan_int_rate'] = df.apply(lambda row: media_por_rating[row['loan_grade']] if pd.isnull(row['loan_int_rate']) else row['loan_int_rate'], axis=1)\n",
    "print(df)"
   ]
  },
  {
   "cell_type": "code",
   "execution_count": 11,
   "id": "87be6343",
   "metadata": {},
   "outputs": [],
   "source": [
    "df['person_emp_length'].fillna((df['person_emp_length'].median()), inplace = True)"
   ]
  },
  {
   "cell_type": "code",
   "execution_count": 12,
   "id": "bb26d2d7",
   "metadata": {},
   "outputs": [
    {
     "name": "stdout",
     "output_type": "stream",
     "text": [
      "<class 'pandas.core.frame.DataFrame'>\n",
      "RangeIndex: 32581 entries, 0 to 32580\n",
      "Data columns (total 12 columns):\n",
      " #   Column                      Non-Null Count  Dtype  \n",
      "---  ------                      --------------  -----  \n",
      " 0   person_age                  32581 non-null  int64  \n",
      " 1   person_income               32581 non-null  int64  \n",
      " 2   person_home_ownership       32581 non-null  object \n",
      " 3   person_emp_length           32581 non-null  float64\n",
      " 4   loan_intent                 32581 non-null  object \n",
      " 5   loan_grade                  32581 non-null  object \n",
      " 6   loan_amnt                   32581 non-null  int64  \n",
      " 7   loan_int_rate               32581 non-null  float64\n",
      " 8   loan_status                 32581 non-null  int64  \n",
      " 9   loan_percent_income         32581 non-null  float64\n",
      " 10  cb_person_default_on_file   32581 non-null  object \n",
      " 11  cb_person_cred_hist_length  32581 non-null  int64  \n",
      "dtypes: float64(3), int64(5), object(4)\n",
      "memory usage: 3.0+ MB\n"
     ]
    }
   ],
   "source": [
    "df.info()"
   ]
  },
  {
   "cell_type": "code",
   "execution_count": 13,
   "id": "7d305cb4",
   "metadata": {},
   "outputs": [],
   "source": [
    "#Que legal, resolvemos a questao de nulos em uma variavel importante com um bom valor de proxy"
   ]
  },
  {
   "cell_type": "code",
   "execution_count": 14,
   "id": "e2be23e0",
   "metadata": {},
   "outputs": [
    {
     "data": {
      "text/plain": [
       "loan_status\n",
       "0    25473\n",
       "1     7108\n",
       "Name: count, dtype: int64"
      ]
     },
     "execution_count": 14,
     "metadata": {},
     "output_type": "execute_result"
    }
   ],
   "source": [
    "df['loan_status'].value_counts()"
   ]
  },
  {
   "cell_type": "code",
   "execution_count": 15,
   "id": "4f23b909",
   "metadata": {},
   "outputs": [
    {
     "data": {
      "text/html": [
       "<div>\n",
       "<style scoped>\n",
       "    .dataframe tbody tr th:only-of-type {\n",
       "        vertical-align: middle;\n",
       "    }\n",
       "\n",
       "    .dataframe tbody tr th {\n",
       "        vertical-align: top;\n",
       "    }\n",
       "\n",
       "    .dataframe thead th {\n",
       "        text-align: right;\n",
       "    }\n",
       "</style>\n",
       "<table border=\"1\" class=\"dataframe\">\n",
       "  <thead>\n",
       "    <tr style=\"text-align: right;\">\n",
       "      <th>loan_status</th>\n",
       "      <th>0</th>\n",
       "      <th>1</th>\n",
       "    </tr>\n",
       "    <tr>\n",
       "      <th>person_home_ownership</th>\n",
       "      <th></th>\n",
       "      <th></th>\n",
       "    </tr>\n",
       "  </thead>\n",
       "  <tbody>\n",
       "    <tr>\n",
       "      <th>MORTGAGE</th>\n",
       "      <td>10.070</td>\n",
       "      <td>13.423</td>\n",
       "    </tr>\n",
       "    <tr>\n",
       "      <th>OTHER</th>\n",
       "      <td>11.356</td>\n",
       "      <td>13.881</td>\n",
       "    </tr>\n",
       "    <tr>\n",
       "      <th>OWN</th>\n",
       "      <td>10.762</td>\n",
       "      <td>12.105</td>\n",
       "    </tr>\n",
       "    <tr>\n",
       "      <th>RENT</th>\n",
       "      <td>10.757</td>\n",
       "      <td>12.950</td>\n",
       "    </tr>\n",
       "  </tbody>\n",
       "</table>\n",
       "</div>"
      ],
      "text/plain": [
       "loan_status                 0       1\n",
       "person_home_ownership                \n",
       "MORTGAGE               10.070  13.423\n",
       "OTHER                  11.356  13.881\n",
       "OWN                    10.762  12.105\n",
       "RENT                   10.757  12.950"
      ]
     },
     "execution_count": 15,
     "metadata": {},
     "output_type": "execute_result"
    }
   ],
   "source": [
    "pd.crosstab(df[\"person_home_ownership\"], df[\"loan_status\"], values = df[\"loan_int_rate\"], aggfunc= \"mean\").round(3)"
   ]
  },
  {
   "cell_type": "code",
   "execution_count": 16,
   "id": "33e1e275",
   "metadata": {},
   "outputs": [
    {
     "data": {
      "text/html": [
       "<div>\n",
       "<style scoped>\n",
       "    .dataframe tbody tr th:only-of-type {\n",
       "        vertical-align: middle;\n",
       "    }\n",
       "\n",
       "    .dataframe tbody tr th {\n",
       "        vertical-align: top;\n",
       "    }\n",
       "\n",
       "    .dataframe thead th {\n",
       "        text-align: right;\n",
       "    }\n",
       "</style>\n",
       "<table border=\"1\" class=\"dataframe\">\n",
       "  <thead>\n",
       "    <tr style=\"text-align: right;\">\n",
       "      <th>loan_status</th>\n",
       "      <th>0</th>\n",
       "      <th>1</th>\n",
       "    </tr>\n",
       "    <tr>\n",
       "      <th>cb_person_default_on_file</th>\n",
       "      <th></th>\n",
       "      <th></th>\n",
       "    </tr>\n",
       "  </thead>\n",
       "  <tbody>\n",
       "    <tr>\n",
       "      <th>N</th>\n",
       "      <td>9.846</td>\n",
       "      <td>12.094</td>\n",
       "    </tr>\n",
       "    <tr>\n",
       "      <th>Y</th>\n",
       "      <td>14.096</td>\n",
       "      <td>15.200</td>\n",
       "    </tr>\n",
       "  </tbody>\n",
       "</table>\n",
       "</div>"
      ],
      "text/plain": [
       "loan_status                     0       1\n",
       "cb_person_default_on_file                \n",
       "N                           9.846  12.094\n",
       "Y                          14.096  15.200"
      ]
     },
     "execution_count": 16,
     "metadata": {},
     "output_type": "execute_result"
    }
   ],
   "source": [
    "#Acima, vemos informacoes cruciais, a distribuicao de contratos em default e as taxa de juros media, vamos continuar com essa analise\n",
    "pd.crosstab(df[\"cb_person_default_on_file\"], df[\"loan_status\"], values = df[\"loan_int_rate\"], aggfunc= \"mean\").round(3)"
   ]
  },
  {
   "cell_type": "code",
   "execution_count": 17,
   "id": "49d03ec7",
   "metadata": {},
   "outputs": [
    {
     "data": {
      "text/html": [
       "<div>\n",
       "<style scoped>\n",
       "    .dataframe tbody tr th:only-of-type {\n",
       "        vertical-align: middle;\n",
       "    }\n",
       "\n",
       "    .dataframe tbody tr th {\n",
       "        vertical-align: top;\n",
       "    }\n",
       "\n",
       "    .dataframe thead th {\n",
       "        text-align: right;\n",
       "    }\n",
       "</style>\n",
       "<table border=\"1\" class=\"dataframe\">\n",
       "  <thead>\n",
       "    <tr style=\"text-align: right;\">\n",
       "      <th>loan_status</th>\n",
       "      <th>0</th>\n",
       "      <th>1</th>\n",
       "    </tr>\n",
       "    <tr>\n",
       "      <th>loan_intent</th>\n",
       "      <th></th>\n",
       "      <th></th>\n",
       "    </tr>\n",
       "  </thead>\n",
       "  <tbody>\n",
       "    <tr>\n",
       "      <th>DEBTCONSOLIDATION</th>\n",
       "      <td>10.033</td>\n",
       "      <td>13.439</td>\n",
       "    </tr>\n",
       "    <tr>\n",
       "      <th>EDUCATION</th>\n",
       "      <td>10.644</td>\n",
       "      <td>12.487</td>\n",
       "    </tr>\n",
       "    <tr>\n",
       "      <th>HOMEIMPROVEMENT</th>\n",
       "      <td>10.615</td>\n",
       "      <td>12.899</td>\n",
       "    </tr>\n",
       "    <tr>\n",
       "      <th>MEDICAL</th>\n",
       "      <td>10.191</td>\n",
       "      <td>13.364</td>\n",
       "    </tr>\n",
       "    <tr>\n",
       "      <th>PERSONAL</th>\n",
       "      <td>10.593</td>\n",
       "      <td>12.540</td>\n",
       "    </tr>\n",
       "    <tr>\n",
       "      <th>VENTURE</th>\n",
       "      <td>10.533</td>\n",
       "      <td>13.277</td>\n",
       "    </tr>\n",
       "  </tbody>\n",
       "</table>\n",
       "</div>"
      ],
      "text/plain": [
       "loan_status             0       1\n",
       "loan_intent                      \n",
       "DEBTCONSOLIDATION  10.033  13.439\n",
       "EDUCATION          10.644  12.487\n",
       "HOMEIMPROVEMENT    10.615  12.899\n",
       "MEDICAL            10.191  13.364\n",
       "PERSONAL           10.593  12.540\n",
       "VENTURE            10.533  13.277"
      ]
     },
     "execution_count": 17,
     "metadata": {},
     "output_type": "execute_result"
    }
   ],
   "source": [
    "pd.crosstab(df[\"loan_intent\"], df[\"loan_status\"], values = df[\"loan_int_rate\"], aggfunc= \"mean\").round(3)"
   ]
  },
  {
   "cell_type": "code",
   "execution_count": 18,
   "id": "37e2836c",
   "metadata": {},
   "outputs": [
    {
     "data": {
      "text/html": [
       "<div>\n",
       "<style scoped>\n",
       "    .dataframe tbody tr th:only-of-type {\n",
       "        vertical-align: middle;\n",
       "    }\n",
       "\n",
       "    .dataframe tbody tr th {\n",
       "        vertical-align: top;\n",
       "    }\n",
       "\n",
       "    .dataframe thead th {\n",
       "        text-align: right;\n",
       "    }\n",
       "</style>\n",
       "<table border=\"1\" class=\"dataframe\">\n",
       "  <thead>\n",
       "    <tr style=\"text-align: right;\">\n",
       "      <th>loan_status</th>\n",
       "      <th>0</th>\n",
       "      <th>1</th>\n",
       "      <th>All</th>\n",
       "    </tr>\n",
       "    <tr>\n",
       "      <th>loan_intent</th>\n",
       "      <th></th>\n",
       "      <th></th>\n",
       "      <th></th>\n",
       "    </tr>\n",
       "  </thead>\n",
       "  <tbody>\n",
       "    <tr>\n",
       "      <th>DEBTCONSOLIDATION</th>\n",
       "      <td>3722</td>\n",
       "      <td>1490</td>\n",
       "      <td>5212</td>\n",
       "    </tr>\n",
       "    <tr>\n",
       "      <th>EDUCATION</th>\n",
       "      <td>5342</td>\n",
       "      <td>1111</td>\n",
       "      <td>6453</td>\n",
       "    </tr>\n",
       "    <tr>\n",
       "      <th>HOMEIMPROVEMENT</th>\n",
       "      <td>2664</td>\n",
       "      <td>941</td>\n",
       "      <td>3605</td>\n",
       "    </tr>\n",
       "    <tr>\n",
       "      <th>MEDICAL</th>\n",
       "      <td>4450</td>\n",
       "      <td>1621</td>\n",
       "      <td>6071</td>\n",
       "    </tr>\n",
       "    <tr>\n",
       "      <th>PERSONAL</th>\n",
       "      <td>4423</td>\n",
       "      <td>1098</td>\n",
       "      <td>5521</td>\n",
       "    </tr>\n",
       "    <tr>\n",
       "      <th>VENTURE</th>\n",
       "      <td>4872</td>\n",
       "      <td>847</td>\n",
       "      <td>5719</td>\n",
       "    </tr>\n",
       "    <tr>\n",
       "      <th>All</th>\n",
       "      <td>25473</td>\n",
       "      <td>7108</td>\n",
       "      <td>32581</td>\n",
       "    </tr>\n",
       "  </tbody>\n",
       "</table>\n",
       "</div>"
      ],
      "text/plain": [
       "loan_status            0     1    All\n",
       "loan_intent                          \n",
       "DEBTCONSOLIDATION   3722  1490   5212\n",
       "EDUCATION           5342  1111   6453\n",
       "HOMEIMPROVEMENT     2664   941   3605\n",
       "MEDICAL             4450  1621   6071\n",
       "PERSONAL            4423  1098   5521\n",
       "VENTURE             4872   847   5719\n",
       "All                25473  7108  32581"
      ]
     },
     "execution_count": 18,
     "metadata": {},
     "output_type": "execute_result"
    }
   ],
   "source": [
    "pd.crosstab(df['loan_intent'], df['loan_status'], margins = True)"
   ]
  },
  {
   "cell_type": "code",
   "execution_count": 19,
   "id": "60392069",
   "metadata": {},
   "outputs": [
    {
     "data": {
      "text/html": [
       "<div>\n",
       "<style scoped>\n",
       "    .dataframe tbody tr th:only-of-type {\n",
       "        vertical-align: middle;\n",
       "    }\n",
       "\n",
       "    .dataframe tbody tr th {\n",
       "        vertical-align: top;\n",
       "    }\n",
       "\n",
       "    .dataframe thead th {\n",
       "        text-align: right;\n",
       "    }\n",
       "</style>\n",
       "<table border=\"1\" class=\"dataframe\">\n",
       "  <thead>\n",
       "    <tr style=\"text-align: right;\">\n",
       "      <th>loan_status</th>\n",
       "      <th>0</th>\n",
       "      <th>1</th>\n",
       "    </tr>\n",
       "    <tr>\n",
       "      <th>person_home_ownership</th>\n",
       "      <th></th>\n",
       "      <th></th>\n",
       "    </tr>\n",
       "  </thead>\n",
       "  <tbody>\n",
       "    <tr>\n",
       "      <th>MORTGAGE</th>\n",
       "      <td>0.146504</td>\n",
       "      <td>0.184882</td>\n",
       "    </tr>\n",
       "    <tr>\n",
       "      <th>OTHER</th>\n",
       "      <td>0.143784</td>\n",
       "      <td>0.300000</td>\n",
       "    </tr>\n",
       "    <tr>\n",
       "      <th>OWN</th>\n",
       "      <td>0.180013</td>\n",
       "      <td>0.297358</td>\n",
       "    </tr>\n",
       "    <tr>\n",
       "      <th>RENT</th>\n",
       "      <td>0.144611</td>\n",
       "      <td>0.264859</td>\n",
       "    </tr>\n",
       "  </tbody>\n",
       "</table>\n",
       "</div>"
      ],
      "text/plain": [
       "loan_status                   0         1\n",
       "person_home_ownership                    \n",
       "MORTGAGE               0.146504  0.184882\n",
       "OTHER                  0.143784  0.300000\n",
       "OWN                    0.180013  0.297358\n",
       "RENT                   0.144611  0.264859"
      ]
     },
     "execution_count": 19,
     "metadata": {},
     "output_type": "execute_result"
    }
   ],
   "source": [
    "pd.crosstab(df['person_home_ownership'], df['loan_status'], values=df['loan_percent_income'], aggfunc=\"mean\")"
   ]
  },
  {
   "cell_type": "code",
   "execution_count": 20,
   "id": "08987257",
   "metadata": {},
   "outputs": [
    {
     "data": {
      "image/png": "[encoded data removed]",
      "text/plain": [
       "<Figure size 640x480 with 1 Axes>"
      ]
     },
     "metadata": {},
     "output_type": "display_data"
    }
   ],
   "source": [
    "#Aqui vemos como valor dos emprestimos estao distribuidos \n",
    "n, bins, patches = plt.hist(x = df[\"loan_amnt\"], bins = \"auto\", color = \"blue\", alpha = 0.7, rwidth = 0.95)\n",
    "plt.xlabel(\"Loan Amount\")\n",
    "plt.show()"
   ]
  },
  {
   "cell_type": "code",
   "execution_count": 21,
   "id": "3731272d",
   "metadata": {},
   "outputs": [
    {
     "name": "stdout",
     "output_type": "stream",
     "text": [
      "Observacoes: 32581\n",
      "Variaveis: 12\n",
      "Colunas categoricas: 5\n",
      "Colunas numericas: 7\n",
      "Colunas categóricas com alta cardinalidade: 0\n",
      "Colunas categóricas com baixa cardinalidade: 1\n"
     ]
    }
   ],
   "source": [
    "def grab_col_names(dataframe, cat_th=10, car_th=20):\n",
    "    cat_cols = [col for col in dataframe.columns if dataframe[col].dtypes == \"O\"]\n",
    "    num_but_cat = [col for col in dataframe.columns if dataframe[col].nunique() < cat_th and dataframe[col].dtypes != \"O\"]\n",
    "    cat_but_car = [col for col in dataframe.columns if dataframe[col].nunique() > car_th and dataframe[col].dtypes == \"O\"]\n",
    "\n",
    "    cat_cols = cat_cols + num_but_cat\n",
    "    cat_cols = [col for col in cat_cols if col not in cat_but_car]\n",
    "\n",
    "    # num_cols\n",
    "    num_cols = [col for col in dataframe.columns if dataframe[col].dtypes != \"O\"]\n",
    "    num_cols = [col for col in num_cols if col not in num_but_cat]\n",
    "\n",
    "    print(f\"Observacoes: {dataframe.shape[0]}\")\n",
    "    print(f\"Variaveis: {dataframe.shape[1]}\")\n",
    "    print(f'Colunas categoricas: {len(cat_cols)}')\n",
    "    print(f'Colunas numericas: {len(num_cols)}')\n",
    "    print(f'Colunas categóricas com alta cardinalidade: {len(cat_but_car)}')\n",
    "    print(f'Colunas categóricas com baixa cardinalidade: {len(num_but_cat)}')\n",
    "    return cat_cols, num_cols, cat_but_car,num_but_cat\n",
    "\n",
    "cat_cols, num_cols, cat_but_car,num_but_cat =grab_col_names(df)"
   ]
  },
  {
   "cell_type": "code",
   "execution_count": 22,
   "id": "dd81fa10",
   "metadata": {},
   "outputs": [
    {
     "name": "stdout",
     "output_type": "stream",
     "text": [
      "Nossa variavel dependente sera\n",
      "['loan_status']\n",
      "As 5 variaveis categoricas\n",
      "['person_home_ownership', 'loan_intent', 'loan_grade', 'cb_person_default_on_file', 'loan_status']\n",
      "As 7 variaveis numericas\n",
      "['person_age', 'person_income', 'person_emp_length', 'loan_amnt', 'loan_int_rate', 'loan_percent_income', 'cb_person_cred_hist_length']\n"
     ]
    }
   ],
   "source": [
    "print('Nossa variavel dependente sera')\n",
    "print(num_but_cat)\n",
    "print('As 5 variaveis categoricas')\n",
    "print(cat_cols)\n",
    "print('As 7 variaveis numericas')\n",
    "print(num_cols)\n"
   ]
  },
  {
   "cell_type": "code",
   "execution_count": 23,
   "id": "3ba25656",
   "metadata": {},
   "outputs": [
    {
     "name": "stdout",
     "output_type": "stream",
     "text": [
      "             person_age\n",
      "loan_status            \n",
      "0             27.807129\n",
      "1             27.474676\n",
      "\n",
      "\n",
      "             person_income\n",
      "loan_status               \n",
      "0             70804.361559\n",
      "1             49125.652223\n",
      "\n",
      "\n",
      "             person_emp_length\n",
      "loan_status                   \n",
      "0                     4.945432\n",
      "1                     4.132105\n",
      "\n",
      "\n",
      "                loan_amnt\n",
      "loan_status              \n",
      "0             9237.464178\n",
      "1            10850.502954\n",
      "\n",
      "\n",
      "             loan_int_rate\n",
      "loan_status               \n",
      "0                10.442364\n",
      "1                13.043400\n",
      "\n",
      "\n",
      "             loan_percent_income\n",
      "loan_status                     \n",
      "0                       0.148805\n",
      "1                       0.246889\n",
      "\n",
      "\n",
      "             cb_person_cred_hist_length\n",
      "loan_status                            \n",
      "0                              5.837475\n",
      "1                              5.685003\n",
      "\n",
      "\n"
     ]
    }
   ],
   "source": [
    "#Vamos pegar a media das colunas de valor de acordo com as colunas de inadimplencia\n",
    "def target_summary_with_num(dataframe, target, numerical_col):\n",
    "    print(dataframe.groupby(target).agg({numerical_col: \"mean\"}), end=\"\\n\\n\\n\")\n",
    "for col in num_cols:\n",
    "    target_summary_with_num(df, \"loan_status\",col)"
   ]
  },
  {
   "cell_type": "code",
   "execution_count": 24,
   "id": "bad91dc6",
   "metadata": {},
   "outputs": [
    {
     "name": "stdout",
     "output_type": "stream",
     "text": [
      "person_age True\n",
      "person_income True\n",
      "person_emp_length True\n",
      "loan_amnt False\n",
      "loan_int_rate False\n",
      "loan_percent_income False\n",
      "cb_person_cred_hist_length False\n"
     ]
    }
   ],
   "source": [
    "#Vamos agora verificar os outliers\n",
    "def outlier_limite(dataframe, col_name, q1=0.01, q3=0.99):\n",
    "    quartile1 = dataframe[col_name].quantile(q1)\n",
    "    quartile3 = dataframe[col_name].quantile(q3)\n",
    "    interquantile_range = quartile3 - quartile1\n",
    "    up_limit = quartile3 + 1.5 * interquantile_range\n",
    "    low_limit = quartile1 - 1.5 * interquantile_range\n",
    "    return low_limit, up_limit\n",
    "\n",
    "def check_outlier(dataframe, col_name):\n",
    "    low_limit, up_limit = outlier_limite(dataframe, col_name)\n",
    "    if dataframe[(dataframe[col_name] > up_limit) | (dataframe[col_name] < low_limit)].any(axis=None):\n",
    "        return True\n",
    "    else:\n",
    "        return False\n",
    "\n",
    "for col in num_cols:\n",
    "    print(col, check_outlier(df, col))\n",
    "#person_age, person_income and person_emp_lenght possuem outliers."
   ]
  },
  {
   "cell_type": "code",
   "execution_count": 25,
   "id": "902ad5db",
   "metadata": {},
   "outputs": [
    {
     "data": {
      "text/plain": [
       "(person_age                       -22.500000\n",
       " person_income                -301800.000000\n",
       " person_emp_length                -25.500000\n",
       " loan_amnt                     -42200.000000\n",
       " loan_int_rate                    -14.363738\n",
       " loan_percent_income               -0.700000\n",
       " cb_person_cred_hist_length       -20.500000\n",
       " dtype: float64,\n",
       " person_age                        93.500000\n",
       " person_income                 541400.000000\n",
       " person_emp_length                 42.500000\n",
       " loan_amnt                      73000.000000\n",
       " loan_int_rate                     38.392897\n",
       " loan_percent_income                1.220000\n",
       " cb_person_cred_hist_length        39.500000\n",
       " dtype: float64)"
      ]
     },
     "execution_count": 25,
     "metadata": {},
     "output_type": "execute_result"
    }
   ],
   "source": [
    "outlier_limite(df, num_cols)"
   ]
  },
  {
   "cell_type": "code",
   "execution_count": 26,
   "id": "2babe0ab",
   "metadata": {},
   "outputs": [
    {
     "data": {
      "text/plain": [
       "Index([81, 183, 575, 747, 32297, 32416], dtype='int64')"
      ]
     },
     "execution_count": 26,
     "metadata": {},
     "output_type": "execute_result"
    }
   ],
   "source": [
    "df[df[\"person_age\"] > 93].index"
   ]
  },
  {
   "cell_type": "code",
   "execution_count": 27,
   "id": "d9a9ba91",
   "metadata": {},
   "outputs": [
    {
     "name": "stdout",
     "output_type": "stream",
     "text": [
      "person_age False\n",
      "person_income False\n",
      "person_emp_length False\n",
      "loan_amnt False\n",
      "loan_int_rate False\n",
      "loan_percent_income False\n",
      "cb_person_cred_hist_length False\n"
     ]
    }
   ],
   "source": [
    "#Tem algo errado com a coluna de idade, vamos arrumar isso repondo estes outliers\n",
    "def replace_with_thresholds(dataframe, variable):\n",
    "    low_limit, up_limit = outlier_limite(dataframe, variable)\n",
    "    dataframe.loc[(dataframe[variable] < low_limit), variable] = low_limit\n",
    "    dataframe.loc[(dataframe[variable] > up_limit), variable] = up_limit\n",
    "\n",
    "for col in num_cols:\n",
    "    replace_with_thresholds(df, col)\n",
    "\n",
    "#Checando\n",
    "for col in num_cols:\n",
    "    print(col, check_outlier(df, col))\n",
    "\n",
    "#Agora resolvemos os outliers"
   ]
  },
  {
   "cell_type": "code",
   "execution_count": 28,
   "id": "4a8e89ad",
   "metadata": {},
   "outputs": [
    {
     "name": "stdout",
     "output_type": "stream",
     "text": [
      "person_home_ownership : 4\n",
      "                       COUNT     RATIO  TARGET_MEAN\n",
      "person_home_ownership                              \n",
      "MORTGAGE               13444  0.412633     0.125707\n",
      "OTHER                    107  0.003284     0.308411\n",
      "OWN                     2584  0.079310     0.074690\n",
      "RENT                   16446  0.504773     0.315700\n",
      "\n",
      "\n",
      "loan_intent : 6\n",
      "                   COUNT     RATIO  TARGET_MEAN\n",
      "loan_intent                                    \n",
      "DEBTCONSOLIDATION   5212  0.159971     0.285879\n",
      "EDUCATION           6453  0.198060     0.172168\n",
      "HOMEIMPROVEMENT     3605  0.110647     0.261026\n",
      "MEDICAL             6071  0.186336     0.267007\n",
      "PERSONAL            5521  0.169455     0.198877\n",
      "VENTURE             5719  0.175532     0.148103\n",
      "\n",
      "\n",
      "loan_grade : 7\n",
      "            COUNT     RATIO  TARGET_MEAN\n",
      "loan_grade                              \n",
      "A           10777  0.330776     0.099564\n",
      "B           10451  0.320770     0.162760\n",
      "C            6458  0.198214     0.207340\n",
      "D            3626  0.111292     0.590458\n",
      "E             964  0.029588     0.644191\n",
      "F             241  0.007397     0.705394\n",
      "G              64  0.001964     0.984375\n",
      "\n",
      "\n",
      "cb_person_default_on_file : 2\n",
      "                           COUNT    RATIO  TARGET_MEAN\n",
      "cb_person_default_on_file                             \n",
      "N                          26836  0.82367     0.183932\n",
      "Y                           5745  0.17633     0.378068\n",
      "\n",
      "\n",
      "loan_status : 2\n",
      "             COUNT     RATIO  TARGET_MEAN\n",
      "loan_status                              \n",
      "0            25473  0.781836          0.0\n",
      "1             7108  0.218164          1.0\n",
      "\n",
      "\n"
     ]
    },
    {
     "data": {
      "text/plain": [
       "Index(['person_age', 'person_income', 'person_emp_length', 'loan_amnt',\n",
       "       'loan_int_rate', 'loan_status', 'loan_percent_income',\n",
       "       'cb_person_cred_hist_length', 'person_home_ownership_OTHER',\n",
       "       'person_home_ownership_OWN', 'person_home_ownership_RENT',\n",
       "       'loan_intent_EDUCATION', 'loan_intent_HOMEIMPROVEMENT',\n",
       "       'loan_intent_MEDICAL', 'loan_intent_PERSONAL', 'loan_intent_VENTURE',\n",
       "       'loan_grade_B', 'loan_grade_C', 'loan_grade_D', 'loan_grade_E',\n",
       "       'loan_grade_F', 'loan_grade_G', 'cb_person_default_on_file_Y'],\n",
       "      dtype='object')"
      ]
     },
     "execution_count": 28,
     "metadata": {},
     "output_type": "execute_result"
    }
   ],
   "source": [
    "def rare_analyser(dataframe, target, cat_cols):\n",
    "    for col in cat_cols:\n",
    "        print(col, \":\", len(dataframe[col].value_counts()))\n",
    "        print(pd.DataFrame({\"COUNT\": dataframe[col].value_counts(),\n",
    "                            \"RATIO\": dataframe[col].value_counts() / len(dataframe),\n",
    "                            \"TARGET_MEAN\": dataframe.groupby(col)[target].mean()}), end=\"\\n\\n\\n\")\n",
    "rare_analyser(df, \"loan_status\", cat_cols)\n",
    "\n",
    "#One Hot Encoding - Por que fazemos ---> https://arthurlambletvaz.medium.com/one-hot-encoding-o-que-é-cd2e8d302ae0\n",
    "def one_hot_encoder(dataframe, categorical_cols, drop_first=False):\n",
    "    dataframe = pd.get_dummies(dataframe, columns=categorical_cols, drop_first=drop_first)\n",
    "    return dataframe\n",
    "ohe_cols = [col for col in df.columns if 10 >= df[col].nunique() >= 2 and col not in \"loan_status\"]\n",
    "df2 = one_hot_encoder(df, ohe_cols,drop_first=True)\n",
    "\n",
    "df2.columns"
   ]
  },
  {
   "cell_type": "code",
   "execution_count": 29,
   "id": "c0257a10",
   "metadata": {},
   "outputs": [],
   "source": [
    "#Imports\n",
    "from sklearn.linear_model import LogisticRegression\n",
    "from sklearn.metrics import accuracy_score, roc_auc_score, confusion_matrix, classification_report, RocCurveDisplay, roc_curve\n",
    "from sklearn.model_selection import train_test_split, cross_validate, KFold\n",
    "import xgboost as xgb\n",
    "from sklearn.model_selection import GridSearchCV, cross_validate, RandomizedSearchCV, validation_curve, cross_val_score\n",
    "from sklearn.calibration import calibration_curve\n",
    "from sklearn.metrics import roc_auc_score\n",
    "import warnings\n",
    "import optuna\n",
    "from optuna import Trial, visualization\n",
    "from optuna.samplers import TPESampler\n",
    "\n",
    "\n",
    "#Pandas Ajustes\n",
    "pd.set_option('display.max_columns', None)\n",
    "warnings.simplefilter(action='ignore', category=Warning)\n",
    "pd.set_option('display.float_format', lambda x: '%.5f' % x)"
   ]
  },
  {
   "cell_type": "code",
   "execution_count": 30,
   "id": "1fce55e9",
   "metadata": {},
   "outputs": [],
   "source": [
    "#Agora vamos criar o modelo\n",
    "#Regressão Logística Multivariada\n",
    "y = df2['loan_status']\n",
    "X = df2.drop(['loan_status'], axis=1)\n",
    "#Modelo\n",
    "logit = LogisticRegression().fit(X,y)"
   ]
  },
  {
   "cell_type": "code",
   "execution_count": 31,
   "id": "c16d9a1d",
   "metadata": {},
   "outputs": [
    {
     "data": {
      "text/plain": [
       "array([[-5.28866712e-08, -4.08285179e-05, -2.45274131e-08,\n",
       "         1.07307177e-04,  9.47312442e-08,  2.61050333e-09,\n",
       "        -9.09233200e-09,  8.06423100e-11, -4.02344685e-09,\n",
       "         8.32960422e-09, -3.03334766e-09,  1.79936268e-09,\n",
       "         1.37383464e-09, -1.18190707e-09, -3.70756849e-09,\n",
       "        -5.60392872e-09, -1.39442869e-09,  1.08367409e-08,\n",
       "         3.45020492e-09,  1.00623515e-09,  4.22009596e-10,\n",
       "         7.13916771e-09]])"
      ]
     },
     "execution_count": 31,
     "metadata": {},
     "output_type": "execute_result"
    }
   ],
   "source": [
    "logit.coef_"
   ]
  },
  {
   "cell_type": "code",
   "execution_count": 32,
   "id": "15155c13",
   "metadata": {},
   "outputs": [
    {
     "data": {
      "text/plain": [
       "array([1, 0, 1, ..., 1, 0, 0], dtype=int64)"
      ]
     },
     "execution_count": 32,
     "metadata": {},
     "output_type": "execute_result"
    }
   ],
   "source": [
    "#Previsoes\n",
    "y_pred = logit.predict(X)\n",
    "y_pred"
   ]
  },
  {
   "cell_type": "code",
   "execution_count": 33,
   "id": "481a0599",
   "metadata": {},
   "outputs": [
    {
     "data": {
      "image/png": "[encoded data removed]",
      "text/plain": [
       "<Figure size 640x480 with 2 Axes>"
      ]
     },
     "metadata": {},
     "output_type": "display_data"
    }
   ],
   "source": [
    "#Matriz de Confusao\n",
    "def plot_confusion_matrix(y, y_pred):\n",
    "    acc = round(accuracy_score(y, y_pred), 2)\n",
    "    cm = confusion_matrix(y, y_pred)\n",
    "    sns.heatmap(cm, annot=True, fmt=\".0f\")\n",
    "    plt.xlabel('y_pred')\n",
    "    plt.ylabel('y')\n",
    "    plt.title('Accuracy Score: {0}'.format(acc), size=10)\n",
    "    plt.show()\n",
    "\n",
    "plot_confusion_matrix(y, y_pred)"
   ]
  },
  {
   "cell_type": "code",
   "execution_count": 34,
   "id": "c9fd2a35",
   "metadata": {},
   "outputs": [],
   "source": [
    "#Verdadeiros Positivos (True Positives - TP): - São os casos em que o modelo previu corretamente que um empréstimo resultaria em default (classe positiva). - há 1163 verdadeiros positivos\n",
    "#Falsos Positivos (False Positives - FP): Representam os casos em que o modelo previu incorretamente que um empréstimo resultaria em default, mas na verdade não resultou. - existem 431 falsos positivos\n",
    "#Verdadeiros Negativos (True Negatives - TN): - São os casos em que o modelo previu corretamente que um empréstimo não resultaria em default (classe negativa). - tem 25042 verdadeiros negativos\n",
    "#Falsos Negativos (False Negatives - FN): Indicam os casos em que o modelo previu incorretamente que um empréstimo não resultaria em default, mas na verdade resultou. - há 5945 falsos negativos"
   ]
  },
  {
   "cell_type": "code",
   "execution_count": 35,
   "id": "06bf25e5",
   "metadata": {},
   "outputs": [],
   "source": [
    "#Validacao de modelo: Holdout\n",
    "#Dividindo a base\n",
    "X_train, X_test, y_train, y_test = train_test_split(X, y, test_size = .20, random_state = 112224)"
   ]
  },
  {
   "cell_type": "code",
   "execution_count": 36,
   "id": "bde39518",
   "metadata": {},
   "outputs": [
    {
     "name": "stdout",
     "output_type": "stream",
     "text": [
      "              precision    recall  f1-score   support\n",
      "\n",
      "           0       0.81      0.98      0.89      5130\n",
      "           1       0.74      0.16      0.27      1387\n",
      "\n",
      "    accuracy                           0.81      6517\n",
      "   macro avg       0.78      0.57      0.58      6517\n",
      "weighted avg       0.80      0.81      0.76      6517\n",
      "\n"
     ]
    }
   ],
   "source": [
    "\n",
    "#Construindo modelo com set de treino\n",
    "logit_model = LogisticRegression().fit(X_train, y_train)\n",
    "\n",
    "#Prevendo o set de testes\n",
    "y_pred = logit_model.predict(X_test)\n",
    "\n",
    "#Para o AUC Score(Prob de ser Default)\n",
    "y_prob = logit_model.predict_proba(X_test)[:, 1]\n",
    "\n",
    "\n",
    "\n",
    "#Classification Report\n",
    "print(classification_report(y_test, y_pred))\n",
    "\n",
    "\n",
    "#F-1 score e muito baixo."
   ]
  },
  {
   "cell_type": "code",
   "execution_count": 37,
   "id": "bc68274b",
   "metadata": {},
   "outputs": [
    {
     "data": {
      "image/png": "[encoded data removed]",
      "text/plain": [
       "<Figure size 640x480 with 1 Axes>"
      ]
     },
     "metadata": {},
     "output_type": "display_data"
    },
    {
     "data": {
      "text/plain": [
       "0.7633643509558965"
      ]
     },
     "execution_count": 37,
     "metadata": {},
     "output_type": "execute_result"
    }
   ],
   "source": [
    "#Curva ROC e ROC AUC Score\n",
    "\n",
    "# Curva ROC\n",
    "RocCurveDisplay.from_estimator(logit_model, X_test, y_test)\n",
    "plt.title('ROC Curve')\n",
    "plt.plot([0, 1], [0, 1], 'r--')\n",
    "plt.show()\n",
    "\n",
    "roc_auc_score(y_test, y_prob)"
   ]
  },
  {
   "cell_type": "code",
   "execution_count": 38,
   "id": "34523bba",
   "metadata": {},
   "outputs": [],
   "source": [
    "#Validacao de modelo: \"5-Fold Cross Validation\"\n",
    "\n",
    "y = df2[\"loan_status\"]\n",
    "X = df2.drop([\"loan_status\"], axis=1)\n",
    "\n",
    "#Modelo\n",
    "logit = LogisticRegression().fit(X,y)"
   ]
  },
  {
   "cell_type": "code",
   "execution_count": 39,
   "id": "301014bd",
   "metadata": {},
   "outputs": [],
   "source": [
    "cv_logit_acc = cross_val_score(logit, X,y,cv = 10, scoring = \"accuracy\")\n",
    "cv_logit_f1 = cross_val_score(logit, X,y,cv = 10, scoring = \"f1\")\n",
    "cv_logit_roc = cross_val_score(logit, X,y,cv = 10, scoring = \"roc_auc\")"
   ]
  },
  {
   "cell_type": "code",
   "execution_count": 40,
   "id": "55923600",
   "metadata": {},
   "outputs": [
    {
     "data": {
      "text/plain": [
       "0.8025226171619755"
      ]
     },
     "execution_count": 40,
     "metadata": {},
     "output_type": "execute_result"
    }
   ],
   "source": [
    "cv_logit_acc.mean()"
   ]
  },
  {
   "cell_type": "code",
   "execution_count": 41,
   "id": "c5a47883",
   "metadata": {},
   "outputs": [],
   "source": [
    "#Acuracia"
   ]
  },
  {
   "cell_type": "code",
   "execution_count": 42,
   "id": "3aeabe1f",
   "metadata": {},
   "outputs": [
    {
     "data": {
      "text/plain": [
       "0.249315735453883"
      ]
     },
     "execution_count": 42,
     "metadata": {},
     "output_type": "execute_result"
    }
   ],
   "source": [
    "cv_logit_f1.mean()"
   ]
  },
  {
   "cell_type": "code",
   "execution_count": 43,
   "id": "a06ae262",
   "metadata": {},
   "outputs": [],
   "source": [
    "#Valor de F1-SCORE"
   ]
  },
  {
   "cell_type": "code",
   "execution_count": 44,
   "id": "0a8a7a62",
   "metadata": {},
   "outputs": [
    {
     "data": {
      "text/plain": [
       "0.7690072543640826"
      ]
     },
     "execution_count": 44,
     "metadata": {},
     "output_type": "execute_result"
    }
   ],
   "source": [
    "cv_logit_roc.mean()"
   ]
  },
  {
   "cell_type": "code",
   "execution_count": 45,
   "id": "ac513fc2",
   "metadata": {},
   "outputs": [],
   "source": [
    "#Valor da ROC"
   ]
  },
  {
   "cell_type": "code",
   "execution_count": 46,
   "id": "9d3d0c2f",
   "metadata": {},
   "outputs": [],
   "source": [
    "#Em resumo, aqui construimos um modelo mas ele nao foi muito eficiente em prever os contratos que se tornaram inadimplentes, vamos tentar mudar isso com uma outra abordagem\n",
    "#XGBOOST"
   ]
  },
  {
   "cell_type": "code",
   "execution_count": 47,
   "id": "48fbbdeb",
   "metadata": {},
   "outputs": [],
   "source": [
    "X_train, X_test, y_train, y_test = train_test_split(X, y, test_size = .20, random_state = 112224)"
   ]
  },
  {
   "cell_type": "code",
   "execution_count": 48,
   "id": "db02e726",
   "metadata": {},
   "outputs": [
    {
     "name": "stderr",
     "output_type": "stream",
     "text": [
      "[I 2024-02-17 08:01:46,784] A new study created in memory with name: no-name-357df23e-3fbb-4b68-89a0-6d3b45f01713\n",
      "[I 2024-02-17 08:01:47,465] Trial 0 finished with value: 0.09452201933404936 and parameters: {'max_depth': 4, 'n_estimators': 252, 'learning_rate': 2.4681599626120523e-07}. Best is trial 0 with value: 0.09452201933404936.\n",
      "[I 2024-02-17 08:01:49,857] Trial 1 finished with value: 0.0718121835200245 and parameters: {'max_depth': 9, 'n_estimators': 285, 'learning_rate': 6.621692993913824e-05}. Best is trial 1 with value: 0.0718121835200245.\n",
      "[I 2024-02-17 08:01:50,135] Trial 2 finished with value: 0.1155439619456805 and parameters: {'max_depth': 3, 'n_estimators': 68, 'learning_rate': 0.001039042448533147}. Best is trial 1 with value: 0.0718121835200245.\n",
      "[I 2024-02-17 08:01:52,719] Trial 3 finished with value: 0.06183826914224333 and parameters: {'max_depth': 4, 'n_estimators': 700, 'learning_rate': 0.031287289658078615}. Best is trial 3 with value: 0.06183826914224333.\n",
      "[I 2024-02-17 08:01:54,692] Trial 4 finished with value: 0.06444683136412455 and parameters: {'max_depth': 3, 'n_estimators': 889, 'learning_rate': 0.4805274046252157}. Best is trial 3 with value: 0.06183826914224333.\n",
      "[I 2024-02-17 08:01:55,610] Trial 5 finished with value: 0.06091760012275582 and parameters: {'max_depth': 6, 'n_estimators': 206, 'learning_rate': 0.05072625256195234}. Best is trial 5 with value: 0.06091760012275582.\n",
      "[I 2024-02-17 08:01:56,542] Trial 6 finished with value: 0.1407089151450054 and parameters: {'max_depth': 2, 'n_estimators': 610, 'learning_rate': 7.89916409510566e-08}. Best is trial 5 with value: 0.06091760012275582.\n",
      "[I 2024-02-17 08:01:57,826] Trial 7 finished with value: 0.07733619763694954 and parameters: {'max_depth': 8, 'n_estimators': 223, 'learning_rate': 4.489845168732143e-07}. Best is trial 5 with value: 0.06091760012275582.\n",
      "[I 2024-02-17 08:01:59,458] Trial 8 finished with value: 0.07733619763694954 and parameters: {'max_depth': 8, 'n_estimators': 287, 'learning_rate': 5.922798618763899e-08}. Best is trial 5 with value: 0.06091760012275582.\n",
      "[I 2024-02-17 08:02:06,211] Trial 9 finished with value: 0.06506061071044955 and parameters: {'max_depth': 9, 'n_estimators': 988, 'learning_rate': 0.0016333943606739363}. Best is trial 5 with value: 0.06091760012275582.\n",
      "[I 2024-02-17 08:02:06,471] Trial 10 finished with value: 0.06229860365198714 and parameters: {'max_depth': 6, 'n_estimators': 32, 'learning_rate': 0.5651039301067842}. Best is trial 5 with value: 0.06091760012275582.\n",
      "[I 2024-02-17 08:02:09,220] Trial 11 finished with value: 0.06107104495933713 and parameters: {'max_depth': 6, 'n_estimators': 625, 'learning_rate': 0.014002847696707075}. Best is trial 5 with value: 0.06091760012275582.\n",
      "[I 2024-02-17 08:02:11,148] Trial 12 finished with value: 0.06091760012275582 and parameters: {'max_depth': 6, 'n_estimators': 483, 'learning_rate': 0.015688906435211442}. Best is trial 5 with value: 0.06091760012275582.\n",
      "[I 2024-02-17 08:02:12,869] Trial 13 finished with value: 0.085008439466012 and parameters: {'max_depth': 6, 'n_estimators': 443, 'learning_rate': 2.38270900721634e-05}. Best is trial 5 with value: 0.06091760012275582.\n",
      "[I 2024-02-17 08:02:14,837] Trial 14 finished with value: 0.06030382077643093 and parameters: {'max_depth': 7, 'n_estimators': 430, 'learning_rate': 0.03231436364832311}. Best is trial 14 with value: 0.06030382077643093.\n",
      "[I 2024-02-17 08:02:16,682] Trial 15 finished with value: 0.08009820469541196 and parameters: {'max_depth': 7, 'n_estimators': 380, 'learning_rate': 5.439416787778694e-06}. Best is trial 14 with value: 0.06030382077643093.\n",
      "[I 2024-02-17 08:02:17,063] Trial 16 finished with value: 0.08623599815866201 and parameters: {'max_depth': 5, 'n_estimators': 98, 'learning_rate': 0.0009127468395639317}. Best is trial 14 with value: 0.06030382077643093.\n",
      "[I 2024-02-17 08:02:18,006] Trial 17 finished with value: 0.06030382077643093 and parameters: {'max_depth': 7, 'n_estimators': 187, 'learning_rate': 0.09477343475304117}. Best is trial 14 with value: 0.06030382077643093.\n",
      "[I 2024-02-17 08:02:20,130] Trial 18 finished with value: 0.059536596593524616 and parameters: {'max_depth': 8, 'n_estimators': 378, 'learning_rate': 0.11771034346881608}. Best is trial 18 with value: 0.059536596593524616.\n",
      "[I 2024-02-17 08:02:23,791] Trial 19 finished with value: 0.06567439005677456 and parameters: {'max_depth': 8, 'n_estimators': 400, 'learning_rate': 0.004351133686658823}. Best is trial 18 with value: 0.059536596593524616.\n",
      "[I 2024-02-17 08:02:26,884] Trial 20 finished with value: 0.07917753567592456 and parameters: {'max_depth': 7, 'n_estimators': 576, 'learning_rate': 0.00023774432760610223}. Best is trial 18 with value: 0.059536596593524616.\n",
      "[I 2024-02-17 08:02:27,709] Trial 21 finished with value: 0.059996931103268425 and parameters: {'max_depth': 7, 'n_estimators': 164, 'learning_rate': 0.14754671959963883}. Best is trial 18 with value: 0.059536596593524616.\n",
      "[I 2024-02-17 08:02:30,680] Trial 22 finished with value: 0.06030382077643093 and parameters: {'max_depth': 8, 'n_estimators': 526, 'learning_rate': 0.18517267854604175}. Best is trial 18 with value: 0.059536596593524616.\n",
      "[I 2024-02-17 08:02:32,834] Trial 23 finished with value: 0.06736228325916838 and parameters: {'max_depth': 9, 'n_estimators': 352, 'learning_rate': 0.8438508164054439}. Best is trial 18 with value: 0.059536596593524616.\n",
      "[I 2024-02-17 08:02:36,412] Trial 24 finished with value: 0.05938315175694342 and parameters: {'max_depth': 7, 'n_estimators': 729, 'learning_rate': 0.008605474992581802}. Best is trial 24 with value: 0.05938315175694342.\n",
      "[I 2024-02-17 08:02:39,959] Trial 25 finished with value: 0.06782261776891207 and parameters: {'max_depth': 5, 'n_estimators': 780, 'learning_rate': 0.0058389982272096935}. Best is trial 24 with value: 0.05938315175694342.\n",
      "[I 2024-02-17 08:02:44,325] Trial 26 finished with value: 0.060764155286174626 and parameters: {'max_depth': 8, 'n_estimators': 765, 'learning_rate': 0.16006144728941676}. Best is trial 24 with value: 0.05938315175694342.\n",
      "[I 2024-02-17 08:02:45,389] Trial 27 finished with value: 0.16679453736381766 and parameters: {'max_depth': 1, 'n_estimators': 701, 'learning_rate': 0.00035269205497013754}. Best is trial 24 with value: 0.05938315175694342.\n",
      "[I 2024-02-17 08:02:46,386] Trial 28 finished with value: 0.07841031149301825 and parameters: {'max_depth': 7, 'n_estimators': 150, 'learning_rate': 0.004285768552111082}. Best is trial 24 with value: 0.05938315175694342.\n",
      "[I 2024-02-17 08:02:48,655] Trial 29 finished with value: 0.059996931103268425 and parameters: {'max_depth': 9, 'n_estimators': 336, 'learning_rate': 0.19715741864151634}. Best is trial 24 with value: 0.05938315175694342.\n",
      "[I 2024-02-17 08:02:50,931] Trial 30 finished with value: 0.07043117999079329 and parameters: {'max_depth': 4, 'n_estimators': 893, 'learning_rate': 0.008735821851233633}. Best is trial 24 with value: 0.05938315175694342.\n",
      "[I 2024-02-17 08:02:53,240] Trial 31 finished with value: 0.060764155286174626 and parameters: {'max_depth': 9, 'n_estimators': 344, 'learning_rate': 0.1798260937428025}. Best is trial 24 with value: 0.05938315175694342.\n",
      "[I 2024-02-17 08:02:55,592] Trial 32 finished with value: 0.06812950744207458 and parameters: {'max_depth': 9, 'n_estimators': 253, 'learning_rate': 0.9807000961128874}. Best is trial 24 with value: 0.05938315175694342.\n",
      "[I 2024-02-17 08:02:57,612] Trial 33 finished with value: 0.06015037593984962 and parameters: {'max_depth': 8, 'n_estimators': 305, 'learning_rate': 0.06768376933919873}. Best is trial 24 with value: 0.05938315175694342.\n",
      "[I 2024-02-17 08:02:58,556] Trial 34 finished with value: 0.059996931103268425 and parameters: {'max_depth': 9, 'n_estimators': 147, 'learning_rate': 0.2965559865543241}. Best is trial 24 with value: 0.05938315175694342.\n",
      "[I 2024-02-17 08:03:00,919] Trial 35 finished with value: 0.06045726561301212 and parameters: {'max_depth': 7, 'n_estimators': 511, 'learning_rate': 0.03718110720689092}. Best is trial 24 with value: 0.05938315175694342.\n",
      "[I 2024-02-17 08:03:01,480] Trial 36 finished with value: 0.06061071044959332 and parameters: {'max_depth': 8, 'n_estimators': 85, 'learning_rate': 0.07999877745576149}. Best is trial 24 with value: 0.05938315175694342.\n"
     ]
    },
    {
     "name": "stderr",
     "output_type": "stream",
     "text": [
      "[I 2024-02-17 08:03:02,500] Trial 37 finished with value: 0.06521405554703086 and parameters: {'max_depth': 5, 'n_estimators': 298, 'learning_rate': 0.01772593605565278}. Best is trial 24 with value: 0.05938315175694342.\n",
      "[I 2024-02-17 08:03:05,146] Trial 38 finished with value: 0.06015037593984962 and parameters: {'max_depth': 9, 'n_estimators': 463, 'learning_rate': 0.3205932744992564}. Best is trial 24 with value: 0.05938315175694342.\n",
      "[I 2024-02-17 08:03:06,549] Trial 39 finished with value: 0.07733619763694954 and parameters: {'max_depth': 8, 'n_estimators': 238, 'learning_rate': 1.4911411023539107e-08}. Best is trial 24 with value: 0.05938315175694342.\n",
      "[I 2024-02-17 08:03:09,179] Trial 40 finished with value: 0.07794997698327455 and parameters: {'max_depth': 7, 'n_estimators': 546, 'learning_rate': 0.0019042858554078907}. Best is trial 24 with value: 0.05938315175694342.\n",
      "[I 2024-02-17 08:03:10,444] Trial 41 finished with value: 0.06153137946908083 and parameters: {'max_depth': 9, 'n_estimators': 154, 'learning_rate': 0.3572683782860933}. Best is trial 24 with value: 0.05938315175694342.\n",
      "[I 2024-02-17 08:03:11,469] Trial 42 finished with value: 0.05984348626668712 and parameters: {'max_depth': 9, 'n_estimators': 125, 'learning_rate': 0.1647073822697874}. Best is trial 24 with value: 0.05938315175694342.\n",
      "[I 2024-02-17 08:03:12,018] Trial 43 finished with value: 0.06061071044959332 and parameters: {'max_depth': 9, 'n_estimators': 58, 'learning_rate': 0.09250111746428863}. Best is trial 24 with value: 0.05938315175694342.\n",
      "[I 2024-02-17 08:03:13,851] Trial 44 finished with value: 0.06061071044959332 and parameters: {'max_depth': 8, 'n_estimators': 334, 'learning_rate': 0.032057368798165245}. Best is trial 24 with value: 0.05938315175694342.\n",
      "[I 2024-02-17 08:03:14,537] Trial 45 finished with value: 0.058309037900874605 and parameters: {'max_depth': 8, 'n_estimators': 118, 'learning_rate': 0.15824980680046732}. Best is trial 45 with value: 0.058309037900874605.\n",
      "[I 2024-02-17 08:03:14,677] Trial 46 finished with value: 0.0860825533220807 and parameters: {'max_depth': 6, 'n_estimators': 15, 'learning_rate': 0.014924299587977781}. Best is trial 45 with value: 0.058309037900874605.\n",
      "[I 2024-02-17 08:03:15,469] Trial 47 finished with value: 0.07733619763694954 and parameters: {'max_depth': 8, 'n_estimators': 123, 'learning_rate': 5.453692563134182e-06}. Best is trial 45 with value: 0.058309037900874605.\n",
      "[I 2024-02-17 08:03:16,540] Trial 48 finished with value: 0.06137793463249963 and parameters: {'max_depth': 7, 'n_estimators': 219, 'learning_rate': 0.43678805390048825}. Best is trial 45 with value: 0.058309037900874605.\n",
      "[I 2024-02-17 08:03:17,298] Trial 49 finished with value: 0.0853153291391745 and parameters: {'max_depth': 6, 'n_estimators': 178, 'learning_rate': 0.0023672937332689333}. Best is trial 45 with value: 0.058309037900874605.\n"
     ]
    },
    {
     "name": "stdout",
     "output_type": "stream",
     "text": [
      "{'max_depth': 8, 'n_estimators': 118, 'learning_rate': 0.15824980680046732}\n"
     ]
    }
   ],
   "source": [
    "\n",
    "#Otimização de hiperparâmetros (ajuste de modelo)\n",
    "\n",
    "#função\n",
    "def objective(trial):\n",
    "\n",
    "    data = df2\n",
    "\n",
    "\n",
    "    X_train, X_test, y_train, y_test = train_test_split(X, y, test_size=0.2, random_state=112224)\n",
    "\n",
    "\n",
    "\n",
    "    params = {\n",
    "\n",
    "        'objective': 'binary:logistic',\n",
    "\n",
    "        'max_depth': trial.suggest_int('max_depth', 1, 9),\n",
    "\n",
    "        'n_estimators': trial.suggest_int('n_estimators', 10, 1000),\n",
    "\n",
    "        'learning_rate': trial.suggest_loguniform('learning_rate', 1e-8, 1.0)\n",
    "\n",
    "    }\n",
    "\n",
    "\n",
    "\n",
    "    clf_gbt = xgb.XGBClassifier(**params)\n",
    "\n",
    "    clf_gbt.fit(X_train, y_train, eval_metric = 'error')\n",
    "\n",
    "\n",
    "\n",
    "    gbt_preds = clf_gbt.predict(X_test)\n",
    "\n",
    "\n",
    "\n",
    "    accuracy = accuracy_score(y_test, gbt_preds)\n",
    "\n",
    "    return (1-accuracy)\n",
    "\n",
    "\n",
    "\n",
    "if __name__ == '__main__':\n",
    "\n",
    "\n",
    "\n",
    "    study = optuna.create_study()\n",
    "\n",
    "    study.optimize(objective, n_trials=50)\n",
    "\n",
    "\n",
    "\n",
    "    print(study.best_params)\n",
    "   \n",
    "    "
   ]
  },
  {
   "cell_type": "code",
   "execution_count": 49,
   "id": "6d0373aa",
   "metadata": {
    "scrolled": true
   },
   "outputs": [
    {
     "name": "stdout",
     "output_type": "stream",
     "text": [
      "    loan_status  gbt_prob_default\n",
      "0             1           0.94732\n",
      "1             0           0.01307\n",
      "2             0           0.03431\n",
      "3             1           0.14380\n",
      "4             0           0.05331\n",
      "5             0           0.03445\n",
      "6             0           0.11362\n",
      "7             1           0.99607\n",
      "8             0           0.08449\n",
      "9             0           0.01924\n",
      "10            0           0.03918\n",
      "11            0           0.02285\n",
      "12            0           0.00080\n",
      "13            1           0.53051\n",
      "14            0           0.02668\n",
      "15            0           0.01765\n",
      "16            0           0.00919\n",
      "17            0           0.09041\n",
      "18            0           0.16840\n",
      "19            0           0.23683\n",
      "20            0           0.04901\n",
      "21            0           0.00029\n",
      "22            0           0.12704\n",
      "23            0           0.00052\n",
      "24            0           0.02545\n",
      "25            0           0.02972\n",
      "26            0           0.18913\n",
      "27            0           0.04051\n",
      "28            0           0.03655\n",
      "29            0           0.08499\n",
      "30            0           0.44713\n",
      "31            0           0.02022\n",
      "32            0           0.00113\n",
      "33            0           0.00141\n",
      "34            0           0.19689\n",
      "35            0           0.06000\n",
      "36            0           0.00066\n",
      "37            0           0.00032\n",
      "38            0           0.07055\n",
      "39            0           0.00057\n",
      "40            0           0.11399\n",
      "41            0           0.03453\n",
      "42            0           0.03186\n",
      "43            0           0.09729\n",
      "44            0           0.06976\n",
      "45            0           0.20226\n",
      "46            0           0.03290\n",
      "47            0           0.03491\n",
      "48            0           0.00235\n",
      "49            0           0.00934\n"
     ]
    }
   ],
   "source": [
    "#Treinando o modelo\n",
    "clf_gbt = xgb.XGBClassifier(**study.best_params).fit(X_train, np.ravel(y_train), eval_metric = \"error\")\n",
    "#Probabilidade de previsões\n",
    "gbt_preds = clf_gbt.predict_proba(X_test)\n",
    "\n",
    "#Comparacao de valores verdadeiros e previstos\n",
    "preds_df = pd.DataFrame(gbt_preds[:,1], columns = ['gbt_prob_default'])\n",
    "true_df = y_test\n",
    "\n",
    "print(pd.concat([true_df.reset_index(drop = True), preds_df], axis = 1).head(50))"
   ]
  },
  {
   "cell_type": "code",
   "execution_count": 50,
   "id": "c701f915",
   "metadata": {},
   "outputs": [
    {
     "data": {
      "text/html": [
       "<div>\n",
       "<style scoped>\n",
       "    .dataframe tbody tr th:only-of-type {\n",
       "        vertical-align: middle;\n",
       "    }\n",
       "\n",
       "    .dataframe tbody tr th {\n",
       "        vertical-align: top;\n",
       "    }\n",
       "\n",
       "    .dataframe thead th {\n",
       "        text-align: right;\n",
       "    }\n",
       "</style>\n",
       "<table border=\"1\" class=\"dataframe\">\n",
       "  <thead>\n",
       "    <tr style=\"text-align: right;\">\n",
       "      <th></th>\n",
       "      <th>gbt_prob_default</th>\n",
       "      <th>lr_prob_default</th>\n",
       "      <th>loan_amount</th>\n",
       "    </tr>\n",
       "  </thead>\n",
       "  <tbody>\n",
       "    <tr>\n",
       "      <th>0</th>\n",
       "      <td>0.94732</td>\n",
       "      <td>0.00906</td>\n",
       "      <td>7775</td>\n",
       "    </tr>\n",
       "    <tr>\n",
       "      <th>1</th>\n",
       "      <td>0.01307</td>\n",
       "      <td>0.23622</td>\n",
       "      <td>8000</td>\n",
       "    </tr>\n",
       "    <tr>\n",
       "      <th>2</th>\n",
       "      <td>0.03431</td>\n",
       "      <td>0.07268</td>\n",
       "      <td>24250</td>\n",
       "    </tr>\n",
       "    <tr>\n",
       "      <th>3</th>\n",
       "      <td>0.14380</td>\n",
       "      <td>0.36945</td>\n",
       "      <td>6000</td>\n",
       "    </tr>\n",
       "    <tr>\n",
       "      <th>4</th>\n",
       "      <td>0.05331</td>\n",
       "      <td>0.12820</td>\n",
       "      <td>6000</td>\n",
       "    </tr>\n",
       "  </tbody>\n",
       "</table>\n",
       "</div>"
      ],
      "text/plain": [
       "   gbt_prob_default  lr_prob_default  loan_amount\n",
       "0           0.94732          0.00906         7775\n",
       "1           0.01307          0.23622         8000\n",
       "2           0.03431          0.07268        24250\n",
       "3           0.14380          0.36945         6000\n",
       "4           0.05331          0.12820         6000"
      ]
     },
     "execution_count": 50,
     "metadata": {},
     "output_type": "execute_result"
    }
   ],
   "source": [
    "#Portfolio de Performance\n",
    "y_prob_df = pd.DataFrame(y_prob, columns = [\"lr_prob_default\"])\n",
    "portfolio = pd.concat([preds_df.reset_index(drop=True), y_prob_df], axis = 1)\n",
    "\n",
    "loans = X_test[\"loan_amnt\"]\n",
    "loans.reset_index(drop=True, inplace=True)\n",
    "portfolio[\"loan_amount\"] = loans\n",
    "portfolio.head()"
   ]
  },
  {
   "cell_type": "code",
   "execution_count": 51,
   "id": "1dba1d2c",
   "metadata": {},
   "outputs": [
    {
     "data": {
      "text/html": [
       "<div>\n",
       "<style scoped>\n",
       "    .dataframe tbody tr th:only-of-type {\n",
       "        vertical-align: middle;\n",
       "    }\n",
       "\n",
       "    .dataframe tbody tr th {\n",
       "        vertical-align: top;\n",
       "    }\n",
       "\n",
       "    .dataframe thead th {\n",
       "        text-align: right;\n",
       "    }\n",
       "</style>\n",
       "<table border=\"1\" class=\"dataframe\">\n",
       "  <thead>\n",
       "    <tr style=\"text-align: right;\">\n",
       "      <th></th>\n",
       "      <th>gbt_prob_default</th>\n",
       "      <th>lr_prob_default</th>\n",
       "      <th>loan_amount</th>\n",
       "      <th>gbt_expected_loss</th>\n",
       "      <th>lr_expected_loss</th>\n",
       "    </tr>\n",
       "  </thead>\n",
       "  <tbody>\n",
       "    <tr>\n",
       "      <th>0</th>\n",
       "      <td>0.94732</td>\n",
       "      <td>0.00906</td>\n",
       "      <td>7775</td>\n",
       "      <td>1473.08401</td>\n",
       "      <td>14.09491</td>\n",
       "    </tr>\n",
       "    <tr>\n",
       "      <th>1</th>\n",
       "      <td>0.01307</td>\n",
       "      <td>0.23622</td>\n",
       "      <td>8000</td>\n",
       "      <td>20.91700</td>\n",
       "      <td>377.94584</td>\n",
       "    </tr>\n",
       "    <tr>\n",
       "      <th>2</th>\n",
       "      <td>0.03431</td>\n",
       "      <td>0.07268</td>\n",
       "      <td>24250</td>\n",
       "      <td>166.39567</td>\n",
       "      <td>352.49005</td>\n",
       "    </tr>\n",
       "    <tr>\n",
       "      <th>3</th>\n",
       "      <td>0.14380</td>\n",
       "      <td>0.36945</td>\n",
       "      <td>6000</td>\n",
       "      <td>172.56111</td>\n",
       "      <td>443.34516</td>\n",
       "    </tr>\n",
       "    <tr>\n",
       "      <th>4</th>\n",
       "      <td>0.05331</td>\n",
       "      <td>0.12820</td>\n",
       "      <td>6000</td>\n",
       "      <td>63.97593</td>\n",
       "      <td>153.84417</td>\n",
       "    </tr>\n",
       "  </tbody>\n",
       "</table>\n",
       "</div>"
      ],
      "text/plain": [
       "   gbt_prob_default  lr_prob_default  loan_amount  gbt_expected_loss  \\\n",
       "0           0.94732          0.00906         7775         1473.08401   \n",
       "1           0.01307          0.23622         8000           20.91700   \n",
       "2           0.03431          0.07268        24250          166.39567   \n",
       "3           0.14380          0.36945         6000          172.56111   \n",
       "4           0.05331          0.12820         6000           63.97593   \n",
       "\n",
       "   lr_expected_loss  \n",
       "0          14.09491  \n",
       "1         377.94584  \n",
       "2         352.49005  \n",
       "3         443.34516  \n",
       "4         153.84417  "
      ]
     },
     "execution_count": 51,
     "metadata": {},
     "output_type": "execute_result"
    }
   ],
   "source": [
    "#Assumimos uma LGD de 0,2 e que e constante\n",
    "#Criando uma coluna de Perdas Esperadas\n",
    "lgd = 0.2\n",
    "portfolio[\"gbt_expected_loss\"] = portfolio[\"gbt_prob_default\"] * lgd * portfolio[\"loan_amount\"]\n",
    "portfolio[\"lr_expected_loss\"] = portfolio[\"lr_prob_default\"] * lgd * portfolio[\"loan_amount\"]\n",
    "\n",
    "portfolio.head()"
   ]
  },
  {
   "cell_type": "code",
   "execution_count": 52,
   "id": "51d23e8a",
   "metadata": {},
   "outputs": [],
   "source": [
    "#Aqui entao temos, uma comparacao da PE do modelo LOGIT (LR) e do modelo XGB (gbt) "
   ]
  },
  {
   "cell_type": "code",
   "execution_count": 53,
   "id": "c7fe8c82",
   "metadata": {},
   "outputs": [
    {
     "name": "stdout",
     "output_type": "stream",
     "text": [
      "LR expected loss:  3108546.8657476073\n"
     ]
    }
   ],
   "source": [
    "#Soma da PE para o modelo LOGIT\n",
    "print('LR expected loss: ', np.sum(portfolio['lr_expected_loss']))"
   ]
  },
  {
   "cell_type": "code",
   "execution_count": 54,
   "id": "f838c0fd",
   "metadata": {},
   "outputs": [
    {
     "name": "stdout",
     "output_type": "stream",
     "text": [
      "XGB expected loss:  2992417.7953674365\n"
     ]
    }
   ],
   "source": [
    "#Soma da PE para o modelo XGBOOST\n",
    "print('XGB expected loss: ', np.sum(portfolio['gbt_expected_loss']))"
   ]
  },
  {
   "cell_type": "code",
   "execution_count": 55,
   "id": "c364b578",
   "metadata": {},
   "outputs": [
    {
     "name": "stdout",
     "output_type": "stream",
     "text": [
      "64038.2906513419\n"
     ]
    }
   ],
   "source": [
    "LR_expected_loss =  3108547.5195690366\n",
    "GBT_expected_loss = 3044509.2289176947\n",
    "print(LR_expected_loss - GBT_expected_loss)"
   ]
  },
  {
   "cell_type": "code",
   "execution_count": 56,
   "id": "c1a92752",
   "metadata": {},
   "outputs": [],
   "source": [
    "#Diferenca de 64 mil dolares, o modelo XBG esta prevendo melhor e economizando mais em provisionamento."
   ]
  },
  {
   "cell_type": "code",
   "execution_count": 57,
   "id": "8756bd46",
   "metadata": {},
   "outputs": [
    {
     "name": "stdout",
     "output_type": "stream",
     "text": [
      "              precision    recall  f1-score   support\n",
      "\n",
      " Non-Default       0.94      0.99      0.96      5130\n",
      "     Default       0.97      0.75      0.85      1387\n",
      "\n",
      "    accuracy                           0.94      6517\n",
      "   macro avg       0.95      0.87      0.90      6517\n",
      "weighted avg       0.94      0.94      0.94      6517\n",
      "\n"
     ]
    }
   ],
   "source": [
    "# Previsao para o 'loan_status'\n",
    "gbt_preds = clf_gbt.predict(X_test)\n",
    "\n",
    "# Classification report do modelo\n",
    "target_names = ['Non-Default', 'Default']\n",
    "print(classification_report(y_test, gbt_preds, target_names=target_names))\n",
    "\n",
    "#O modelo XGBoost e superior ao modelo LOGIT"
   ]
  },
  {
   "cell_type": "code",
   "execution_count": 58,
   "id": "93e4a7a2",
   "metadata": {},
   "outputs": [
    {
     "name": "stdout",
     "output_type": "stream",
     "text": [
      "{'person_age': 735.0, 'person_income': 1880.0, 'person_emp_length': 766.0, 'loan_amnt': 879.0, 'loan_int_rate': 1184.0, 'loan_percent_income': 712.0, 'cb_person_cred_hist_length': 447.0, 'person_home_ownership_OTHER': 19.0, 'person_home_ownership_OWN': 109.0, 'person_home_ownership_RENT': 241.0, 'loan_intent_EDUCATION': 132.0, 'loan_intent_HOMEIMPROVEMENT': 141.0, 'loan_intent_MEDICAL': 141.0, 'loan_intent_PERSONAL': 124.0, 'loan_intent_VENTURE': 127.0, 'loan_grade_B': 66.0, 'loan_grade_C': 98.0, 'loan_grade_D': 105.0, 'loan_grade_E': 53.0, 'loan_grade_F': 24.0, 'loan_grade_G': 35.0, 'cb_person_default_on_file_Y': 87.0}\n"
     ]
    }
   ],
   "source": [
    "#Importancia de variaveis\n",
    "\n",
    "print(clf_gbt.get_booster().get_score(importance_type = 'weight'))"
   ]
  },
  {
   "cell_type": "code",
   "execution_count": 59,
   "id": "16765453",
   "metadata": {},
   "outputs": [],
   "source": [
    "#Cross Validation\n",
    "\n",
    "cv_results_accuracy= cross_val_score(clf_gbt, X,y,cv = 10, scoring = \"accuracy\")"
   ]
  },
  {
   "cell_type": "code",
   "execution_count": 60,
   "id": "91714128",
   "metadata": {},
   "outputs": [
    {
     "data": {
      "text/plain": [
       "0.9113289618153326"
      ]
     },
     "execution_count": 60,
     "metadata": {},
     "output_type": "execute_result"
    }
   ],
   "source": [
    "cv_results_accuracy.mean()\n",
    "#Acuracia"
   ]
  },
  {
   "cell_type": "code",
   "execution_count": 61,
   "id": "ffb696d7",
   "metadata": {},
   "outputs": [],
   "source": [
    "cv_results_f1= cross_val_score(clf_gbt, X,y,cv = 10, scoring = \"f1\")"
   ]
  },
  {
   "cell_type": "code",
   "execution_count": 62,
   "id": "a35399c6",
   "metadata": {},
   "outputs": [
    {
     "data": {
      "text/plain": [
       "0.77948733262652"
      ]
     },
     "execution_count": 62,
     "metadata": {},
     "output_type": "execute_result"
    }
   ],
   "source": [
    "cv_results_f1.mean()\n",
    "#Media"
   ]
  },
  {
   "cell_type": "code",
   "execution_count": 63,
   "id": "5f8b98cb",
   "metadata": {},
   "outputs": [],
   "source": [
    "cv_results_roc= cross_val_score(clf_gbt, X,y,cv = 10, scoring = \"roc_auc\")"
   ]
  },
  {
   "cell_type": "code",
   "execution_count": 64,
   "id": "a6325e92",
   "metadata": {},
   "outputs": [
    {
     "data": {
      "text/plain": [
       "0.9129933054048168"
      ]
     },
     "execution_count": 64,
     "metadata": {},
     "output_type": "execute_result"
    }
   ],
   "source": [
    "cv_results_roc.mean()\n",
    "#ROC"
   ]
  },
  {
   "cell_type": "code",
   "execution_count": 65,
   "id": "e0289f9f",
   "metadata": {},
   "outputs": [
    {
     "name": "stdout",
     "output_type": "stream",
     "text": [
      "Logistic Regression AUC Score: 0.57\n"
     ]
    }
   ],
   "source": [
    "#Comparacao das ROC AUC Score dos modelos\n",
    "\n",
    "clf_logistic_preds = logit_model.predict(X_test)\n",
    "clf_gbt_preds = clf_gbt.predict(X_test)\n",
    "\n",
    "print(\"Logistic Regression AUC Score: %0.2f\" % roc_auc_score(y_test, clf_logistic_preds))"
   ]
  },
  {
   "cell_type": "code",
   "execution_count": 66,
   "id": "892d4dae",
   "metadata": {},
   "outputs": [
    {
     "name": "stdout",
     "output_type": "stream",
     "text": [
      "Gradient Boosted Tree AUC Score: 0.87\n"
     ]
    }
   ],
   "source": [
    "print(\"Gradient Boosted Tree AUC Score: %0.2f\" % roc_auc_score(y_test, clf_gbt_preds))"
   ]
  },
  {
   "cell_type": "code",
   "execution_count": 67,
   "id": "bb33ef41",
   "metadata": {},
   "outputs": [],
   "source": [
    "#Dado os resultados, vamos partir agora para a elaboracao de uma tabela de analise"
   ]
  },
  {
   "cell_type": "code",
   "execution_count": 68,
   "id": "c38189f5",
   "metadata": {},
   "outputs": [
    {
     "name": "stdout",
     "output_type": "stream",
     "text": [
      "count   6517.00000\n",
      "mean       0.21216\n",
      "std        0.33953\n",
      "min        0.00002\n",
      "25%        0.01253\n",
      "50%        0.05022\n",
      "75%        0.17638\n",
      "max        0.99990\n",
      "Name: gbt_prob_default, dtype: float64\n"
     ]
    }
   ],
   "source": [
    "gbt_preds = clf_gbt.predict_proba(X_test)\n",
    "\n",
    "preds_df = pd.DataFrame(gbt_preds[:,1], columns = ['gbt_prob_default'])\n",
    "true_df = y_test\n",
    "\n",
    "test_pred_df = pd.concat([true_df.reset_index(drop = True), preds_df], axis = 1)\n",
    "\n",
    "#Estatisticas basicas\n",
    "print(test_pred_df[\"gbt_prob_default\"].describe())"
   ]
  },
  {
   "cell_type": "code",
   "execution_count": 69,
   "id": "07f2a2f4",
   "metadata": {},
   "outputs": [
    {
     "data": {
      "text/plain": [
       "0.8140013575553855"
      ]
     },
     "execution_count": 69,
     "metadata": {},
     "output_type": "execute_result"
    }
   ],
   "source": [
    "#Suponha que queremos aceitar empréstimos apenas com probabilidade inferior a 85% de default\n",
    "#Limite\n",
    "threshold_85 = np.quantile(test_pred_df['gbt_prob_default'], 0.85)\n",
    "threshold_85\n",
    "#Portanto rejeitaremos os empréstimos acima da nossa taxa limite."
   ]
  },
  {
   "cell_type": "code",
   "execution_count": 70,
   "id": "d07119e8",
   "metadata": {},
   "outputs": [
    {
     "name": "stdout",
     "output_type": "stream",
     "text": [
      "pred_loan_status\n",
      "0    5539\n",
      "1     978\n",
      "Name: count, dtype: int64\n"
     ]
    }
   ],
   "source": [
    "#Aplicando taxa de aceitação\n",
    "test_pred_df['pred_loan_status'] = test_pred_df['gbt_prob_default'].apply(lambda x: 1 if x > threshold_85 else 0)\n",
    "\n",
    "print(test_pred_df['pred_loan_status'].value_counts())"
   ]
  },
  {
   "cell_type": "code",
   "execution_count": 71,
   "id": "241c27be",
   "metadata": {},
   "outputs": [
    {
     "data": {
      "image/png": "[encoded data removed]",
      "text/plain": [
       "<Figure size 640x480 with 1 Axes>"
      ]
     },
     "metadata": {},
     "output_type": "display_data"
    }
   ],
   "source": [
    "#Visualizando os quantis de aceitação\n",
    "\n",
    "plt.hist(preds_df, color = 'blue', bins = 40)\n",
    "plt.axvline(x = threshold_85, color = 'red')\n",
    "plt.show()"
   ]
  },
  {
   "cell_type": "code",
   "execution_count": 72,
   "id": "bc19c8bf",
   "metadata": {},
   "outputs": [
    {
     "data": {
      "text/plain": [
       "0.07438165733886984"
      ]
     },
     "execution_count": 72,
     "metadata": {},
     "output_type": "execute_result"
    }
   ],
   "source": [
    "# Conjunto apenas dos empréstimos aceitos\n",
    "accepted_loans = test_pred_df[test_pred_df['pred_loan_status'] == 0]\n",
    "\n",
    "# Calculo de bad rate\n",
    "np.sum(accepted_loans['loan_status']) / accepted_loans['loan_status'].count()\n",
    "\n"
   ]
  },
  {
   "cell_type": "code",
   "execution_count": null,
   "id": "51c17e1b",
   "metadata": {},
   "outputs": [],
   "source": [
    "#Isso significa que de todos os empréstimos que decidimos aceitar do conjunto de testes, apenas 7,5% eram default reais"
   ]
  },
  {
   "cell_type": "code",
   "execution_count": 88,
   "id": "407e4cb8",
   "metadata": {},
   "outputs": [
    {
     "name": "stdout",
     "output_type": "stream",
     "text": [
      "    Acceptance Rate  Threshold  Bad Rate\n",
      "0           1.00000    1.00000   0.21300\n",
      "1           0.95000    0.99500   0.17500\n",
      "2           0.90000    0.98500   0.12600\n",
      "3           0.85000    0.81400   0.07400\n",
      "4           0.80000    0.28200   0.05100\n",
      "5           0.75000    0.17600   0.04000\n",
      "6           0.70000    0.12700   0.03200\n",
      "7           0.65000    0.09800   0.02600\n",
      "8           0.60000    0.07800   0.02100\n",
      "9           0.55000    0.06300   0.01800\n",
      "10          0.50000    0.05000   0.01500\n",
      "11          0.45000    0.04100   0.01300\n",
      "12          0.40000    0.03200   0.00900\n",
      "13          0.35000    0.02500   0.00500\n",
      "14          0.30000    0.01900   0.00400\n",
      "15          0.25000    0.01300   0.00400\n",
      "16          0.20000    0.00700   0.00200\n",
      "17          0.15000    0.00200   0.00000\n",
      "18          0.10000    0.00100   0.00000\n",
      "19          0.05000    0.00000   0.00000\n"
     ]
    }
   ],
   "source": [
    "#Criando uma tabela de estrategia\n",
    "accept_rates = [1.0, 0.95, 0.9, 0.85, 0.8, 0.75, 0.7, 0.65, 0.6, 0.55, 0.5, 0.45, 0.4, 0.35, 0.3, 0.25, 0.2, 0.15, 0.1, 0.05]\n",
    "thresholds = []\n",
    "bad_rates = []\n",
    "for rate in accept_rates:\n",
    "    #Cálculo do limite para a taxa de aceitação\n",
    "    thresh = np.quantile(preds_df['gbt_prob_default'], rate).round(3)\n",
    "    # Adicionando o valor limite à lista de limites\n",
    "    thresholds.append(np.quantile(preds_df['gbt_prob_default'], rate).round(3))\n",
    "    # Reatribuindo o loan_status usando o limite\n",
    "    test_pred_df['pred_loan_status'] = test_pred_df['gbt_prob_default'].apply(lambda x: 1 if x > thresh else 0)\n",
    "    # Conjunto de empréstimos aceitos usando esta taxa de aceitação\n",
    "    accepted_loans = test_pred_df[test_pred_df[\"pred_loan_status\"] == 0]\n",
    "    # Calculo e appendacao da \"bad rate\" usando a taxa de aceitação\n",
    "    bad_rates.append(np.sum((accepted_loans[\"loan_status\"]) / len(accepted_loans[\"loan_status\"])).round(3))\n",
    "\n",
    "# Tabela Estrategia\n",
    "strat_df = pd.DataFrame(zip(accept_rates, thresholds, bad_rates),\n",
    "                        columns = ['Acceptance Rate','Threshold','Bad Rate'])\n",
    "print(strat_df)"
   ]
  },
  {
   "cell_type": "code",
   "execution_count": 89,
   "id": "5cd6f276",
   "metadata": {},
   "outputs": [
    {
     "data": {
      "image/png": "[encoded data removed]",
      "text/plain": [
       "<Figure size 640x480 with 1 Axes>"
      ]
     },
     "metadata": {},
     "output_type": "display_data"
    }
   ],
   "source": [
    "#Vendo a Tabela Estrategia\n",
    "\n",
    "strat_df.boxplot()\n",
    "plt.show()"
   ]
  },
  {
   "cell_type": "code",
   "execution_count": 90,
   "id": "130c1315",
   "metadata": {},
   "outputs": [
    {
     "data": {
      "image/png": "[encoded data removed]",
      "text/plain": [
       "<Figure size 640x480 with 1 Axes>"
      ]
     },
     "metadata": {},
     "output_type": "display_data"
    }
   ],
   "source": [
    "#Olhando a Curva de Estrategia\n",
    "plt.plot(strat_df[\"Acceptance Rate\"], strat_df[\"Bad Rate\"])\n",
    "plt.xlabel('Acceptance Rate')\n",
    "plt.ylabel('Bad Rate')\n",
    "plt.title('Acceptance and Bad Rates')\n",
    "\n",
    "plt.show()"
   ]
  },
  {
   "cell_type": "code",
   "execution_count": 91,
   "id": "2b6c50f4",
   "metadata": {},
   "outputs": [
    {
     "data": {
      "text/html": [
       "<div>\n",
       "<style scoped>\n",
       "    .dataframe tbody tr th:only-of-type {\n",
       "        vertical-align: middle;\n",
       "    }\n",
       "\n",
       "    .dataframe tbody tr th {\n",
       "        vertical-align: top;\n",
       "    }\n",
       "\n",
       "    .dataframe thead th {\n",
       "        text-align: right;\n",
       "    }\n",
       "</style>\n",
       "<table border=\"1\" class=\"dataframe\">\n",
       "  <thead>\n",
       "    <tr style=\"text-align: right;\">\n",
       "      <th></th>\n",
       "      <th>Acceptance Rate</th>\n",
       "      <th>Threshold</th>\n",
       "      <th>Bad Rate</th>\n",
       "      <th>Num Accepted Loans</th>\n",
       "      <th>Avg Loan Amnt</th>\n",
       "      <th>Estimated Value</th>\n",
       "    </tr>\n",
       "  </thead>\n",
       "  <tbody>\n",
       "    <tr>\n",
       "      <th>0</th>\n",
       "      <td>1.00000</td>\n",
       "      <td>1.00000</td>\n",
       "      <td>0.21300</td>\n",
       "      <td>6517.00000</td>\n",
       "      <td>9596.20224</td>\n",
       "      <td>35897070.30000</td>\n",
       "    </tr>\n",
       "    <tr>\n",
       "      <th>1</th>\n",
       "      <td>0.95000</td>\n",
       "      <td>0.99500</td>\n",
       "      <td>0.17500</td>\n",
       "      <td>6191.15000</td>\n",
       "      <td>9596.20224</td>\n",
       "      <td>38617492.87500</td>\n",
       "    </tr>\n",
       "    <tr>\n",
       "      <th>2</th>\n",
       "      <td>0.90000</td>\n",
       "      <td>0.98500</td>\n",
       "      <td>0.12600</td>\n",
       "      <td>5865.30000</td>\n",
       "      <td>9596.20224</td>\n",
       "      <td>42100884.54000</td>\n",
       "    </tr>\n",
       "    <tr>\n",
       "      <th>3</th>\n",
       "      <td>0.85000</td>\n",
       "      <td>0.81400</td>\n",
       "      <td>0.07400</td>\n",
       "      <td>5539.45000</td>\n",
       "      <td>9596.20224</td>\n",
       "      <td>45290345.49000</td>\n",
       "    </tr>\n",
       "    <tr>\n",
       "      <th>4</th>\n",
       "      <td>0.80000</td>\n",
       "      <td>0.28200</td>\n",
       "      <td>0.05100</td>\n",
       "      <td>5213.60000</td>\n",
       "      <td>9596.20224</td>\n",
       "      <td>44927622.48000</td>\n",
       "    </tr>\n",
       "  </tbody>\n",
       "</table>\n",
       "</div>"
      ],
      "text/plain": [
       "   Acceptance Rate  Threshold  Bad Rate  Num Accepted Loans  Avg Loan Amnt  \\\n",
       "0          1.00000    1.00000   0.21300          6517.00000     9596.20224   \n",
       "1          0.95000    0.99500   0.17500          6191.15000     9596.20224   \n",
       "2          0.90000    0.98500   0.12600          5865.30000     9596.20224   \n",
       "3          0.85000    0.81400   0.07400          5539.45000     9596.20224   \n",
       "4          0.80000    0.28200   0.05100          5213.60000     9596.20224   \n",
       "\n",
       "   Estimated Value  \n",
       "0   35897070.30000  \n",
       "1   38617492.87500  \n",
       "2   42100884.54000  \n",
       "3   45290345.49000  \n",
       "4   44927622.48000  "
      ]
     },
     "execution_count": 91,
     "metadata": {},
     "output_type": "execute_result"
    }
   ],
   "source": [
    "#Calculando a perda esperada\n",
    "strat_df[\"Num Accepted Loans\"] = len(y_test) * strat_df[\"Acceptance Rate\"]\n",
    "strat_df[\"Avg Loan Amnt\"] = X_test[\"loan_amnt\"].mean()\n",
    "strat_df[\"Estimated Value\"] = ((strat_df[\"Num Accepted Loans\"] - strat_df[\"Num Accepted Loans\"] * strat_df[\"Bad Rate\"]) * strat_df[\"Avg Loan Amnt\"]) - \\\n",
    "                              (strat_df[\"Num Accepted Loans\"] * strat_df[\"Bad Rate\"] * strat_df[\"Avg Loan Amnt\"])\n",
    "strat_df.head()"
   ]
  },
  {
   "cell_type": "code",
   "execution_count": 77,
   "id": "7585ceac",
   "metadata": {},
   "outputs": [
    {
     "data": {
      "image/png": "[encoded data removed]",
      "text/plain": [
       "<Figure size 640x480 with 1 Axes>"
      ]
     },
     "metadata": {},
     "output_type": "display_data"
    }
   ],
   "source": [
    "#Gráfico de linha do valor estimado\n",
    "plt.plot(strat_df[\"Acceptance Rate\"],strat_df[\"Estimated Value\"])\n",
    "plt.title('Estimated Value by Acceptance Rate')\n",
    "plt.xlabel('Acceptance Rate')\n",
    "plt.ylabel('Estimated Value')\n",
    "plt.show()"
   ]
  },
  {
   "cell_type": "code",
   "execution_count": 92,
   "id": "34458631",
   "metadata": {},
   "outputs": [
    {
     "name": "stdout",
     "output_type": "stream",
     "text": [
      "Total da PE:  $11,969,670.99\n"
     ]
    }
   ],
   "source": [
    "test_pred_df[\"loan_amnt\"] = X_test[\"loan_amnt\"]\n",
    "\n",
    "#Assumindo que a LGD e 0,8\n",
    "test_pred_df[\"loss_given_default\"] = 0.8\n",
    "\n",
    "#Calculo da PE\n",
    "test_pred_df[\"expected_loss\"] =  test_pred_df[\"gbt_prob_default\"] * test_pred_df[\"loan_amnt\"]\\\n",
    "                                * test_pred_df[\"loss_given_default\"]\n",
    "tot_exp_loss = round(np.sum(test_pred_df[\"expected_loss\"]),2)\n",
    "\n",
    "print('Total da PE: ', '${:,.2f}'.format(tot_exp_loss))"
   ]
  },
  {
   "cell_type": "code",
   "execution_count": null,
   "id": "59c6c318",
   "metadata": {},
   "outputs": [],
   "source": [
    "#Com esse exercicio, conseguimos testar dois modelos de calculo para a PE e exemplificar algo que nao esta muita na academia e mais no aspecto de trabalho de grandes bancos, as medidas de PD, LGD, EAD e PE sao de grande importancia, pois controla o risco de credito bancario e garante a solidez e saude financeira da nacao."
   ]
  }
 ],
 "metadata": {
  "kernelspec": {
   "display_name": "Python 3 (ipykernel)",
   "language": "python",
   "name": "python3"
  },
  "language_info": {
   "codemirror_mode": {
    "name": "ipython",
    "version": 3
   },
   "file_extension": ".py",
   "mimetype": "text/x-python",
   "name": "python",
   "nbconvert_exporter": "python",
   "pygments_lexer": "ipython3",
   "version": "3.11.5"
  }
 },
 "nbformat": 4,
 "nbformat_minor": 5
}
